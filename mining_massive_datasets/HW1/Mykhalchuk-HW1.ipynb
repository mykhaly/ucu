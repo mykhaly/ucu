{
 "cells": [
  {
   "cell_type": "code",
   "execution_count": 18,
   "metadata": {},
   "outputs": [],
   "source": [
    "import warnings\n",
    "\n",
    "import numpy as np\n",
    "from sklearn.neighbors import LSHForest, NearestNeighbors\n",
    "from spark_sklearn import GridSearchCV\n",
    "\n",
    "from pyspark.ml.feature import (IDF, HashingTF, RegexTokenizer,\n",
    "                                StopWordsRemover, Tokenizer)\n",
    "from pyspark.sql.functions import col, when\n",
    "from pyspark.sql.types import *"
   ]
  },
  {
   "cell_type": "code",
   "execution_count": 19,
   "metadata": {},
   "outputs": [],
   "source": [
    "warnings.filterwarnings('ignore')"
   ]
  },
  {
   "cell_type": "code",
   "execution_count": 20,
   "metadata": {},
   "outputs": [],
   "source": [
    "seed = 42"
   ]
  },
  {
   "cell_type": "code",
   "execution_count": 21,
   "metadata": {},
   "outputs": [
    {
     "name": "stdout",
     "output_type": "stream",
     "text": [
      "+--------------------------------------------------+\n",
      "|name                                              |\n",
      "+--------------------------------------------------+\n",
      "|Clean room Amsterdam. Metro 3min walk.Free parking|\n",
      "|Sunny and cozy room close to metro                |\n",
      "|Pop B&B-private room,free parking,sauna,terraces  |\n",
      "|Tastefully furnished studio with breakfast&parking|\n",
      "|Cozy room in the SE of Amsterdam                  |\n",
      "|Great room south of Amsterdam!                    |\n",
      "|Lovely room in South East Amsterdam               |\n",
      "|spacious light appartment amsterdam zuid-oost     |\n",
      "|Amsterdam South Studio                            |\n",
      "|B&B# green oasis with free parking                |\n",
      "+--------------------------------------------------+\n",
      "only showing top 10 rows\n",
      "\n"
     ]
    }
   ],
   "source": [
    "listing = spark.read.csv('listings.csv', header=True).na.fill({'name': ''})\n",
    "listing.select(col('name')).show(10, False)"
   ]
  },
  {
   "cell_type": "code",
   "execution_count": 22,
   "metadata": {},
   "outputs": [
    {
     "name": "stdout",
     "output_type": "stream",
     "text": [
      "+--------------------------------------------------+----------------------------------------------------------+\n",
      "|name                                              |name_tokenized                                            |\n",
      "+--------------------------------------------------+----------------------------------------------------------+\n",
      "|Clean room Amsterdam. Metro 3min walk.Free parking|[clean, room, amsterdam., metro, 3min, walk.free, parking]|\n",
      "|Sunny and cozy room close to metro                |[sunny, and, cozy, room, close, to, metro]                |\n",
      "|Pop B&B-private room,free parking,sauna,terraces  |[pop, b&b-private, room,free, parking,sauna,terraces]     |\n",
      "|Tastefully furnished studio with breakfast&parking|[tastefully, furnished, studio, with, breakfast&parking]  |\n",
      "|Cozy room in the SE of Amsterdam                  |[cozy, room, in, the, se, of, amsterdam]                  |\n",
      "|Great room south of Amsterdam!                    |[great, room, south, of, amsterdam!]                      |\n",
      "|Lovely room in South East Amsterdam               |[lovely, room, in, south, east, amsterdam]                |\n",
      "|spacious light appartment amsterdam zuid-oost     |[spacious, light, appartment, amsterdam, zuid-oost]       |\n",
      "|Amsterdam South Studio                            |[amsterdam, south, studio]                                |\n",
      "|B&B# green oasis with free parking                |[b&b#, green, oasis, with, free, parking]                 |\n",
      "+--------------------------------------------------+----------------------------------------------------------+\n",
      "only showing top 10 rows\n",
      "\n"
     ]
    }
   ],
   "source": [
    "listing = Tokenizer(inputCol=\"name\", outputCol='name_tokenized').transform(listing)\n",
    "listing.select(\"name\", \"name_tokenized\").show(10, False)"
   ]
  },
  {
   "cell_type": "code",
   "execution_count": 23,
   "metadata": {},
   "outputs": [
    {
     "name": "stdout",
     "output_type": "stream",
     "text": [
      "+--------------------------------------------------+----------------------------------------------------------+\n",
      "|name                                              |name_regextokenized                                       |\n",
      "+--------------------------------------------------+----------------------------------------------------------+\n",
      "|Clean room Amsterdam. Metro 3min walk.Free parking|[Clean, room, Amsterdam, Metro, 3min, walk, Free, parking]|\n",
      "|Sunny and cozy room close to metro                |[Sunny, and, cozy, room, close, to, metro]                |\n",
      "|Pop B&B-private room,free parking,sauna,terraces  |[Pop, B, B, private, room, free, parking, sauna, terraces]|\n",
      "|Tastefully furnished studio with breakfast&parking|[Tastefully, furnished, studio, with, breakfast, parking] |\n",
      "|Cozy room in the SE of Amsterdam                  |[Cozy, room, in, the, SE, of, Amsterdam]                  |\n",
      "|Great room south of Amsterdam!                    |[Great, room, south, of, Amsterdam]                       |\n",
      "|Lovely room in South East Amsterdam               |[Lovely, room, in, South, East, Amsterdam]                |\n",
      "|spacious light appartment amsterdam zuid-oost     |[spacious, light, appartment, amsterdam, zuid, oost]      |\n",
      "|Amsterdam South Studio                            |[Amsterdam, South, Studio]                                |\n",
      "|B&B# green oasis with free parking                |[B, B, green, oasis, with, free, parking]                 |\n",
      "+--------------------------------------------------+----------------------------------------------------------+\n",
      "only showing top 10 rows\n",
      "\n"
     ]
    }
   ],
   "source": [
    "listing = RegexTokenizer(inputCol=\"name\", outputCol=\"name_regextokenized\", toLowercase=False, pattern=\"\\\\W\").transform(listing)\n",
    "listing.select(\"name\", \"name_regextokenized\").show(10, False)"
   ]
  },
  {
   "cell_type": "code",
   "execution_count": 24,
   "metadata": {},
   "outputs": [
    {
     "name": "stdout",
     "output_type": "stream",
     "text": [
      "+--------------------------------------------------+----------------------------------------------------------+\n",
      "|name                                              |name_regextokenized_filtered                              |\n",
      "+--------------------------------------------------+----------------------------------------------------------+\n",
      "|Clean room Amsterdam. Metro 3min walk.Free parking|[Clean, room, Amsterdam, Metro, 3min, walk, Free, parking]|\n",
      "|Sunny and cozy room close to metro                |[Sunny, cozy, room, close, metro]                         |\n",
      "|Pop B&B-private room,free parking,sauna,terraces  |[Pop, B, B, private, room, free, parking, sauna, terraces]|\n",
      "|Tastefully furnished studio with breakfast&parking|[Tastefully, furnished, studio, breakfast, parking]       |\n",
      "|Cozy room in the SE of Amsterdam                  |[Cozy, room, SE, Amsterdam]                               |\n",
      "|Great room south of Amsterdam!                    |[Great, room, south, Amsterdam]                           |\n",
      "|Lovely room in South East Amsterdam               |[Lovely, room, South, East, Amsterdam]                    |\n",
      "|spacious light appartment amsterdam zuid-oost     |[spacious, light, appartment, amsterdam, zuid, oost]      |\n",
      "|Amsterdam South Studio                            |[Amsterdam, South, Studio]                                |\n",
      "|B&B# green oasis with free parking                |[B, B, green, oasis, free, parking]                       |\n",
      "+--------------------------------------------------+----------------------------------------------------------+\n",
      "only showing top 10 rows\n",
      "\n"
     ]
    }
   ],
   "source": [
    "listing = StopWordsRemover(inputCol='name_regextokenized', outputCol='name_regextokenized_filtered').transform(listing)\n",
    "listing.select(\"name\", \"name_regextokenized_filtered\").show(10, False)"
   ]
  },
  {
   "cell_type": "code",
   "execution_count": 25,
   "metadata": {},
   "outputs": [
    {
     "name": "stdout",
     "output_type": "stream",
     "text": [
      "+--------------------------------------------------+-------------------------------------------+\n",
      "|name                                              |name_regextokenized_filtered_twice         |\n",
      "+--------------------------------------------------+-------------------------------------------+\n",
      "|Clean room Amsterdam. Metro 3min walk.Free parking|[Clean, Metro, 3min, walk, Free]           |\n",
      "|Sunny and cozy room close to metro                |[Sunny, cozy, close, metro]                |\n",
      "|Pop B&B-private room,free parking,sauna,terraces  |[Pop, B, B, private, free, sauna, terraces]|\n",
      "|Tastefully furnished studio with breakfast&parking|[Tastefully, furnished, studio, breakfast] |\n",
      "|Cozy room in the SE of Amsterdam                  |[Cozy, SE]                                 |\n",
      "|Great room south of Amsterdam!                    |[Great, south]                             |\n",
      "|Lovely room in South East Amsterdam               |[Lovely, South, East]                      |\n",
      "|spacious light appartment amsterdam zuid-oost     |[spacious, light, appartment, zuid, oost]  |\n",
      "|Amsterdam South Studio                            |[South, Studio]                            |\n",
      "|B&B# green oasis with free parking                |[B, B, green, oasis, free]                 |\n",
      "+--------------------------------------------------+-------------------------------------------+\n",
      "only showing top 10 rows\n",
      "\n"
     ]
    }
   ],
   "source": [
    "stopwords = ['Amsterdam', 'parking', 'room']\n",
    "listing = StopWordsRemover(inputCol='name_regextokenized_filtered', outputCol='name_regextokenized_filtered_twice', stopWords=stopwords).transform(listing)\n",
    "listing.select(\"name\", \"name_regextokenized_filtered_twice\").show(10, False)"
   ]
  },
  {
   "cell_type": "code",
   "execution_count": 26,
   "metadata": {},
   "outputs": [
    {
     "name": "stdout",
     "output_type": "stream",
     "text": [
      "+-----------------------------------------------+\n",
      "|tf                                             |\n",
      "+-----------------------------------------------+\n",
      "|(20,[2,6,8,11,18],[1.0,1.0,1.0,1.0,1.0])       |\n",
      "|(20,[5,10,11,19],[1.0,1.0,1.0,1.0])            |\n",
      "|(20,[4,6,9,10,12,13],[1.0,1.0,2.0,1.0,1.0,1.0])|\n",
      "|(20,[4,6,8,19],[1.0,1.0,1.0,1.0])              |\n",
      "|(20,[4,7],[1.0,1.0])                           |\n",
      "|(20,[15,19],[1.0,1.0])                         |\n",
      "|(20,[1,9,10],[1.0,1.0,1.0])                    |\n",
      "|(20,[0,3,9,13,15],[1.0,1.0,1.0,1.0,1.0])       |\n",
      "|(20,[0,10],[1.0,1.0])                          |\n",
      "|(20,[5,9,13,15],[1.0,2.0,1.0,1.0])             |\n",
      "+-----------------------------------------------+\n",
      "only showing top 10 rows\n",
      "\n"
     ]
    }
   ],
   "source": [
    "listing = HashingTF(inputCol='name_regextokenized_filtered_twice', outputCol='tf', numFeatures=20).transform(listing)\n",
    "listing.select(\"tf\").show(10, False)"
   ]
  },
  {
   "cell_type": "code",
   "execution_count": 27,
   "metadata": {},
   "outputs": [
    {
     "name": "stdout",
     "output_type": "stream",
     "text": [
      "Row(id='20621335', name='Clean room Amsterdam. Metro 3min walk.Free parking', host_id='25403329', host_name='Victor', neighbourhood_group=None, neighbourhood='Bijlmer-Oost', latitude='52.319172968245226', longitude='4.981150531499213', room_type='Private room', price='52', minimum_nights='3', number_of_reviews='23', last_review='2017-11-28', reviews_per_month='6.83', calculated_host_listings_count='1', availability_365='12', name_tokenized=['clean', 'room', 'amsterdam.', 'metro', '3min', 'walk.free', 'parking'], name_regextokenized=['Clean', 'room', 'Amsterdam', 'Metro', '3min', 'walk', 'Free', 'parking'], name_regextokenized_filtered=['Clean', 'room', 'Amsterdam', 'Metro', '3min', 'walk', 'Free', 'parking'], name_regextokenized_filtered_twice=['Clean', 'Metro', '3min', 'walk', 'Free'], tf=SparseVector(20, {2: 1.0, 6: 1.0, 8: 1.0, 11: 1.0, 18: 1.0}), idf=SparseVector(20, {2: 1.9785, 6: 2.6478, 8: 1.6918, 11: 2.1647, 18: 1.6747}))\n",
      "Row(id='16682109', name='Sunny and cozy room close to metro', host_id='33224022', host_name='Olmo & Diede', neighbourhood_group=None, neighbourhood='Bijlmer-Oost', latitude='52.321739484272406', longitude='4.9785224199595', room_type='Private room', price='42', minimum_nights='2', number_of_reviews='30', last_review='2017-11-27', reviews_per_month='2.77', calculated_host_listings_count='1', availability_365='151', name_tokenized=['sunny', 'and', 'cozy', 'room', 'close', 'to', 'metro'], name_regextokenized=['Sunny', 'and', 'cozy', 'room', 'close', 'to', 'metro'], name_regextokenized_filtered=['Sunny', 'cozy', 'room', 'close', 'metro'], name_regextokenized_filtered_twice=['Sunny', 'cozy', 'close', 'metro'], tf=SparseVector(20, {5: 1.0, 10: 1.0, 11: 1.0, 19: 1.0}), idf=SparseVector(20, {5: 2.0771, 10: 1.8966, 11: 2.1647, 19: 2.0622}))\n",
      "Row(id='14117599', name='Pop B&B-private room,free parking,sauna,terraces', host_id='36070529', host_name='Adriana', neighbourhood_group=None, neighbourhood='Bijlmer-Oost', latitude='52.321545713921346', longitude='4.960180647721977', room_type='Private room', price='70', minimum_nights='1', number_of_reviews='22', last_review='2017-11-18', reviews_per_month='1.70', calculated_host_listings_count='1', availability_365='332', name_tokenized=['pop', 'b&b-private', 'room,free', 'parking,sauna,terraces'], name_regextokenized=['Pop', 'B', 'B', 'private', 'room', 'free', 'parking', 'sauna', 'terraces'], name_regextokenized_filtered=['Pop', 'B', 'B', 'private', 'room', 'free', 'parking', 'sauna', 'terraces'], name_regextokenized_filtered_twice=['Pop', 'B', 'B', 'private', 'free', 'sauna', 'terraces'], tf=SparseVector(20, {4: 1.0, 6: 1.0, 9: 2.0, 10: 1.0, 12: 1.0, 13: 1.0}), idf=SparseVector(20, {4: 1.4578, 6: 2.6478, 9: 2.317, 10: 1.8966, 12: 0.816, 13: 1.4106}))\n",
      "Row(id='18093601', name='Tastefully furnished studio with breakfast&parking', host_id='34046945', host_name='Dhiraj', neighbourhood_group=None, neighbourhood='Bijlmer-Oost', latitude='52.324379147181325', longitude='4.961670487952382', room_type='Private room', price='75', minimum_nights='1', number_of_reviews='16', last_review='2017-09-17', reviews_per_month='2.06', calculated_host_listings_count='1', availability_365='0', name_tokenized=['tastefully', 'furnished', 'studio', 'with', 'breakfast&parking'], name_regextokenized=['Tastefully', 'furnished', 'studio', 'with', 'breakfast', 'parking'], name_regextokenized_filtered=['Tastefully', 'furnished', 'studio', 'breakfast', 'parking'], name_regextokenized_filtered_twice=['Tastefully', 'furnished', 'studio', 'breakfast'], tf=SparseVector(20, {4: 1.0, 6: 1.0, 8: 1.0, 19: 1.0}), idf=SparseVector(20, {4: 1.4578, 6: 2.6478, 8: 1.6918, 19: 2.0622}))\n",
      "Row(id='7303459', name='Cozy room in the SE of Amsterdam', host_id='23023786', host_name='Robert', neighbourhood_group=None, neighbourhood='Bijlmer-Oost', latitude='52.32100583630295', longitude='4.961115220537148', room_type='Private room', price='38', minimum_nights='3', number_of_reviews='2', last_review='2016-07-23', reviews_per_month='0.12', calculated_host_listings_count='2', availability_365='125', name_tokenized=['cozy', 'room', 'in', 'the', 'se', 'of', 'amsterdam'], name_regextokenized=['Cozy', 'room', 'in', 'the', 'SE', 'of', 'Amsterdam'], name_regextokenized_filtered=['Cozy', 'room', 'SE', 'Amsterdam'], name_regextokenized_filtered_twice=['Cozy', 'SE'], tf=SparseVector(20, {4: 1.0, 7: 1.0}), idf=SparseVector(20, {4: 1.4578, 7: 1.7113}))\n",
      "Row(id='5362748', name='Great room south of Amsterdam!', host_id='27800005', host_name='Edzo', neighbourhood_group=None, neighbourhood='Bijlmer-Oost', latitude='52.32263415001058', longitude='4.960662732686624', room_type='Private room', price='45', minimum_nights='2', number_of_reviews='22', last_review='2017-03-21', reviews_per_month='0.76', calculated_host_listings_count='1', availability_365='278', name_tokenized=['great', 'room', 'south', 'of', 'amsterdam!'], name_regextokenized=['Great', 'room', 'south', 'of', 'Amsterdam'], name_regextokenized_filtered=['Great', 'room', 'south', 'Amsterdam'], name_regextokenized_filtered_twice=['Great', 'south'], tf=SparseVector(20, {15: 1.0, 19: 1.0}), idf=SparseVector(20, {15: 1.4232, 19: 2.0622}))\n",
      "Row(id='7046849', name='Lovely room in South East Amsterdam', host_id='36953379', host_name='Mark', neighbourhood_group=None, neighbourhood='Bijlmer-Oost', latitude='52.32231416120611', longitude='4.9615935128732325', room_type='Private room', price='45', minimum_nights='1', number_of_reviews='20', last_review='2017-03-26', reviews_per_month='0.72', calculated_host_listings_count='1', availability_365='0', name_tokenized=['lovely', 'room', 'in', 'south', 'east', 'amsterdam'], name_regextokenized=['Lovely', 'room', 'in', 'South', 'East', 'Amsterdam'], name_regextokenized_filtered=['Lovely', 'room', 'South', 'East', 'Amsterdam'], name_regextokenized_filtered_twice=['Lovely', 'South', 'East'], tf=SparseVector(20, {1: 1.0, 9: 1.0, 10: 1.0}), idf=SparseVector(20, {1: 1.3631, 9: 1.1585, 10: 1.8966}))\n",
      "Row(id='21953623', name='spacious light appartment amsterdam zuid-oost', host_id='160266157', host_name='Charlotte', neighbourhood_group=None, neighbourhood='Bijlmer-Oost', latitude='52.3192577461071', longitude='4.980998473907782', room_type='Private room', price='50', minimum_nights='2', number_of_reviews='0', last_review=None, reviews_per_month=None, calculated_host_listings_count='1', availability_365='1', name_tokenized=['spacious', 'light', 'appartment', 'amsterdam', 'zuid-oost'], name_regextokenized=['spacious', 'light', 'appartment', 'amsterdam', 'zuid', 'oost'], name_regextokenized_filtered=['spacious', 'light', 'appartment', 'amsterdam', 'zuid', 'oost'], name_regextokenized_filtered_twice=['spacious', 'light', 'appartment', 'zuid', 'oost'], tf=SparseVector(20, {0: 1.0, 3: 1.0, 9: 1.0, 13: 1.0, 15: 1.0}), idf=SparseVector(20, {0: 1.4702, 3: 1.7599, 9: 1.1585, 13: 1.4106, 15: 1.4232}))\n",
      "Row(id='20041881', name='Amsterdam South Studio', host_id='3713043', host_name='Judith', neighbourhood_group=None, neighbourhood='Bijlmer-Oost', latitude='52.32262403694802', longitude='4.979887688044928', room_type='Entire home/apt', price='68', minimum_nights='8', number_of_reviews='0', last_review=None, reviews_per_month=None, calculated_host_listings_count='2', availability_365='0', name_tokenized=['amsterdam', 'south', 'studio'], name_regextokenized=['Amsterdam', 'South', 'Studio'], name_regextokenized_filtered=['Amsterdam', 'South', 'Studio'], name_regextokenized_filtered_twice=['South', 'Studio'], tf=SparseVector(20, {0: 1.0, 10: 1.0}), idf=SparseVector(20, {0: 1.4702, 10: 1.8966}))\n",
      "Row(id='3905287', name='B&B# green oasis with free parking', host_id='16567328', host_name='Thea', neighbourhood_group=None, neighbourhood='Bijlmer-Oost', latitude='52.319784253576934', longitude='4.962587247424782', room_type='Private room', price='70', minimum_nights='1', number_of_reviews='115', last_review='2017-11-26', reviews_per_month='2.88', calculated_host_listings_count='1', availability_365='332', name_tokenized=['b&b#', 'green', 'oasis', 'with', 'free', 'parking'], name_regextokenized=['B', 'B', 'green', 'oasis', 'with', 'free', 'parking'], name_regextokenized_filtered=['B', 'B', 'green', 'oasis', 'free', 'parking'], name_regextokenized_filtered_twice=['B', 'B', 'green', 'oasis', 'free'], tf=SparseVector(20, {5: 1.0, 9: 2.0, 13: 1.0, 15: 1.0}), idf=SparseVector(20, {5: 2.0771, 9: 2.317, 13: 1.4106, 15: 1.4232}))\n"
     ]
    }
   ],
   "source": [
    "listing = IDF(inputCol=\"tf\", outputCol=\"idf\").fit(listing).transform(listing)\n",
    "for row in listing.head(10):\n",
    "    print(row)"
   ]
  },
  {
   "cell_type": "code",
   "execution_count": 11,
   "metadata": {},
   "outputs": [
    {
     "name": "stdout",
     "output_type": "stream",
     "text": [
      "(20,[2,6,8,11,18],[1.978498810168757,2.647771156299783,1.6917914916688026,2.164725096640868,1.6746772233364775])\n",
      "(20,[5,10,11,19],[2.077127037322882,1.8965992029829544,2.164725096640868,2.062185457324683])\n",
      "(20,[4,6,9,10,12,13],[1.4578231823836376,2.647771156299783,2.317032835649918,1.8965992029829544,0.8159814823422075,1.41056673546132])\n",
      "(20,[4,6,8,19],[1.4578231823836376,2.647771156299783,1.6917914916688026,2.062185457324683])\n",
      "(20,[4,7],[1.4578231823836376,1.711289893742365])\n",
      "(20,[15,19],[1.4232349791103582,2.062185457324683])\n",
      "(20,[1,9,10],[1.3631235996147801,1.158516417824959,1.8965992029829544])\n",
      "(20,[0,3,9,13,15],[1.470170456313043,1.7598861626295568,1.158516417824959,1.41056673546132,1.4232349791103582])\n",
      "(20,[0,10],[1.470170456313043,1.8965992029829544])\n",
      "(20,[5,9,13,15],[2.077127037322882,2.317032835649918,1.41056673546132,1.4232349791103582])\n"
     ]
    }
   ],
   "source": [
    "sample = listing.limit(500)\n",
    "# convert sparse vector to list\n",
    "sample = sample.select(\"idf\").rdd.flatMap(lambda x: x).collect()\n",
    "for row in sample[:10]:\n",
    "    print(row)"
   ]
  },
  {
   "cell_type": "code",
   "execution_count": 12,
   "metadata": {},
   "outputs": [],
   "source": [
    "distances_lshf, indices_lshf = LSHForest(random_state=seed,\n",
    "                                         n_estimators=100,\n",
    "                                         n_candidates=100).fit(sample).kneighbors(sample, n_neighbors=2)"
   ]
  },
  {
   "cell_type": "code",
   "execution_count": 13,
   "metadata": {},
   "outputs": [],
   "source": [
    "distances_ground_truth, indices_ground_truth = NearestNeighbors(n_neighbors=2).fit(sample).kneighbors(sample)"
   ]
  },
  {
   "cell_type": "code",
   "execution_count": 14,
   "metadata": {},
   "outputs": [],
   "source": [
    "def score(model, data):\n",
    "    n_neighbors = model.get_params()['n_neighbors']\n",
    "    \n",
    "    _, indicies_model = model.fit(data).kneighbors(data)\n",
    "    _, indices_ground_truth = NearestNeighbors(n_neighbors=n_neighbors).fit(data).kneighbors(data)\n",
    "    return np.sum(np.equal(indicies_model, indices_ground_truth)) / (len(sample) * n_neighbors)"
   ]
  },
  {
   "cell_type": "code",
   "execution_count": 15,
   "metadata": {},
   "outputs": [],
   "source": [
    "param_grid = {\n",
    "    'random_state': [seed],\n",
    "    'n_estimators': [10, 25, 50, 100, 150],\n",
    "    'n_candidates': [10, 25, 50, 100, 150],\n",
    "    'min_hash_match': [3, 4, 5],\n",
    "    'n_neighbors': [2, 3, 4]\n",
    "}"
   ]
  },
  {
   "cell_type": "code",
   "execution_count": 16,
   "metadata": {},
   "outputs": [
    {
     "name": "stdout",
     "output_type": "stream",
     "text": [
      "Fitting 5 folds for each of 225 candidates, totalling 1125 fits\n",
      "CPU times: user 616 ms, sys: 240 ms, total: 856 ms\n",
      "Wall time: 38min 53s\n"
     ]
    }
   ],
   "source": [
    "%%time\n",
    "grid_search_result = GridSearchCV(sc, \n",
    "                                  LSHForest(), \n",
    "                                  cv=5, \n",
    "                                  param_grid=param_grid, \n",
    "                                  scoring=score, \n",
    "                                  verbose=1).fit(sample)"
   ]
  },
  {
   "cell_type": "markdown",
   "metadata": {},
   "source": [
    "My PC characteristics:\n",
    "Intel(R) Core(TM) i7-6820HQ CPU @ 2.70GHz \n",
    "4 logical cores + 4 \"virtual\" cores / 2 (running this on the virtual machine) = 4 cores overall"
   ]
  },
  {
   "cell_type": "code",
   "execution_count": 17,
   "metadata": {},
   "outputs": [
    {
     "name": "stdout",
     "output_type": "stream",
     "text": [
      "Best params: LSHForest(min_hash_match=4, n_candidates=100, n_estimators=50, n_neighbors=2,\n",
      "     radius=1.0, radius_cutoff_ratio=0.9, random_state=42)\n"
     ]
    }
   ],
   "source": [
    "print('Best params: {}'.format(grid_search_result.best_estimator_))"
   ]
  },
  {
   "cell_type": "code",
   "execution_count": 16,
   "metadata": {},
   "outputs": [
    {
     "name": "stdout",
     "output_type": "stream",
     "text": [
      "Accuracy: 0.014308040525975426\n"
     ]
    }
   ],
   "source": [
    "listing_list = listing.select(\"idf\").rdd.flatMap(lambda x: x).collect()\n",
    "distances_lshf, indices_lshf = LSHForest(min_hash_match=4, \n",
    "                 n_candidates=100, \n",
    "                 n_estimators=50, \n",
    "                 n_neighbors=2,\n",
    "                 radius=1.0, \n",
    "                 radius_cutoff_ratio=0.9, \n",
    "                 random_state=42).fit(listing_list).kneighbors(sample, n_neighbors=2)\n",
    "\n",
    "distances_ground_truth, indices_ground_truth = NearestNeighbors(n_neighbors=2).fit(listing_list).kneighbors(sample)\n",
    "print(\"Accuracy: {}\".format(np.sum(np.equal(indices_lshf, indices_ground_truth)) / (len(listing_list) * 2)))"
   ]
  }
 ],
 "metadata": {
  "kernelspec": {
   "display_name": "Python 3",
   "language": "python",
   "name": "python3"
  },
  "language_info": {
   "codemirror_mode": {
    "name": "ipython",
    "version": 3
   },
   "file_extension": ".py",
   "mimetype": "text/x-python",
   "name": "python",
   "nbconvert_exporter": "python",
   "pygments_lexer": "ipython3",
   "version": "3.5.2"
  }
 },
 "nbformat": 4,
 "nbformat_minor": 2
}
