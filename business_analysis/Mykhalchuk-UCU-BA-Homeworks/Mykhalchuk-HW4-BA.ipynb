{
 "cells": [
  {
   "cell_type": "markdown",
   "metadata": {},
   "source": [
    "**1**"
   ]
  },
  {
   "cell_type": "markdown",
   "metadata": {},
   "source": [
    "$$  \n",
    "Q_A = 100 - P_A + 0.5 \\cdot P_B \\\\\n",
    "Q_B = 100 - P_B + 0.5 \\cdot P_A \n",
    "$$\n"
   ]
  },
  {
   "cell_type": "markdown",
   "metadata": {},
   "source": [
    "$$\n",
    "с(Q_A) = 600 + 10 \\cdot Q_A + 0,25 \\cdot Q_A^2 \\\\\n",
    "с(Q_B) = 25 \\cdot Q_A + 0,5 \\cdot Q_B^2 \\\\\n",
    "$$"
   ]
  },
  {
   "cell_type": "markdown",
   "metadata": {},
   "source": [
    "$$\n",
    "Profit_A(P_A, P_B) = P_A \\cdot Q_A - c(Q_A) \\\\\n",
    "$$"
   ]
  },
  {
   "cell_type": "markdown",
   "metadata": {},
   "source": [
    "$$\n",
    "\\frac\n",
    "    {\\partial{Profit_A}}\n",
    "    {\\partial{P_A}} = \n",
    "$$"
   ]
  },
  {
   "cell_type": "markdown",
   "metadata": {},
   "source": [
    "$$\n",
    "= \\frac\n",
    "    {\\partial{(P_A \\cdot Q_A - (600 + 10 \\cdot Q_A + 0,25 \\cdot Q_A^2))}}\n",
    "    {\\partial{P_A}} =\n",
    "$$"
   ]
  },
  {
   "cell_type": "markdown",
   "metadata": {},
   "source": [
    "$$\n",
    "= (1) \\cdot (100 -P_A + 0.5P_B) + P_A \\cdot (-1) - (10 \\cdot (-1) + 0.25 \\cdot (2P_A - P_B - 200)) = \n",
    "$$"
   ]
  },
  {
   "cell_type": "markdown",
   "metadata": {},
   "source": [
    "$$\n",
    "= 100 - P_A + 0.5P_B - P_A + 10 - 0.5P_A + 0.25P_B + 50 =\n",
    "$$"
   ]
  },
  {
   "cell_type": "markdown",
   "metadata": {},
   "source": [
    "$$\n",
    "= -2.5P_A + 0.75P_B + 160 = 0\n",
    "$$"
   ]
  },
  {
   "cell_type": "markdown",
   "metadata": {},
   "source": [
    "$$\n",
    "P_A = (160 + 0.75P_B) / 2.5 = 64 + 0.3P_B\n",
    "$$"
   ]
  },
  {
   "cell_type": "markdown",
   "metadata": {},
   "source": [
    "$$\n",
    "Profit_B(P_A, P_B) = P_B \\cdot Q_B - c(Q_B)\n",
    "$$"
   ]
  },
  {
   "cell_type": "markdown",
   "metadata": {},
   "source": [
    "$$\n",
    "\\frac\n",
    "    {\\partial{Profit_B}} \n",
    "    {\\partial{P_B}} =\n",
    "$$"
   ]
  },
  {
   "cell_type": "markdown",
   "metadata": {},
   "source": [
    "$$\n",
    "= \\frac\n",
    "    {\\partial{(P_B \\cdot (100 - P_B + (64 + 0.3P_B)) - (25(100 - (64 - 0.3P_B) + 0.5P_B) + 0.5(100 - P_B + 32 + 0.15P_B)^2))}}\n",
    "    {\\partial{P_B}} =\n",
    "$$"
   ]
  },
  {
   "cell_type": "markdown",
   "metadata": {},
   "source": [
    "$$\n",
    "= 256.2 - 2.1225P_B = 0\n",
    "$$"
   ]
  },
  {
   "cell_type": "code",
   "execution_count": 7,
   "metadata": {},
   "outputs": [
    {
     "name": "stdout",
     "output_type": "stream",
     "text": [
      "Price A = 92.21201413427562\n",
      "Prce B = 120.70671378091872\n",
      "Quantity A = 68.14134275618375\n",
      "Quantity B = 25.39929328621909\n",
      "Cost A = 2442.224075715766\n",
      "Cost B = 2026.0956186242809\n",
      "Profit A = 3841.2263856459695\n",
      "Profit B = 1039.7696063129772\n"
     ]
    }
   ],
   "source": [
    "Pb = 256.2 / 2.1225\n",
    "Pa = 56 + 0.3 * Pb\n",
    "\n",
    "Qa = 100 - Pa + 0.5 * Pb\n",
    "Qb = 100 - Pb + 0.5 * Pa\n",
    "\n",
    "Ca = 600 + 10 * Qa + 0.25 * (Qa ** 2)\n",
    "Cb = 25 * Qa + 0.5 * (Qb ** 2)\n",
    "\n",
    "ProfitA = Pa * Qa - Ca\n",
    "ProfitB = Pb * Qb - Cb\n",
    "print(\"Price A = {}\".format(Pa))\n",
    "print(\"Prce B = {}\".format(Pb))\n",
    "\n",
    "print(\"Quantity A = {}\".format(Qa))\n",
    "print(\"Quantity B = {}\".format(Qb))\n",
    "\n",
    "print(\"Cost A = {}\".format(Ca))\n",
    "print(\"Cost B = {}\".format(Cb))\n",
    "\n",
    "print(\"Profit A = {}\".format(ProfitA))\n",
    "print(\"Profit B = {}\".format(ProfitB))"
   ]
  },
  {
   "cell_type": "code",
   "execution_count": 10,
   "metadata": {},
   "outputs": [
    {
     "data": {
      "image/png": "[encoded data removed]",
      "text/plain": [
       "<matplotlib.figure.Figure at 0x7f27d16c75f8>"
      ]
     },
     "metadata": {},
     "output_type": "display_data"
    }
   ],
   "source": [
    "from matplotlib import pyplot as plt\n",
    "\n",
    "\n",
    "def response_a(price_b):\n",
    "    return 56 + 0.3 * price_b\n",
    "\n",
    "b = range(50, 200)\n",
    "a = [response_a(price_b) for price_b in b]\n",
    "\n",
    "plt.xlabel('Pb', fontsize=18)\n",
    "plt.ylabel('Pa', fontsize=16)\n",
    "plt.title('How Pb affects Pa')\n",
    "plt.plot(b, a, 'r-')\n",
    "plt.show()"
   ]
  },
  {
   "cell_type": "markdown",
   "metadata": {},
   "source": [
    "**2**"
   ]
  },
  {
   "cell_type": "markdown",
   "metadata": {},
   "source": [
    "$$  \n",
    "Q_A = 100 - P_A + 0.5 \\cdot P_B \\\\\n",
    "Q_B = 100 - P_B + 0.5 \\cdot P_A \n",
    "$$\n",
    "\n",
    "$$\n",
    "с(Q_A) = 600 + 10 \\cdot Q_A + 0,25 \\cdot Q_A^2 \\\\\n",
    "с(Q_B) = 25 \\cdot Q_A + 0,5 \\cdot Q_B^2 \n",
    "$$\n",
    "\n",
    "$$\n",
    "Profit_B(P_A, P_B) = P_B \\cdot Q_B - c(Q_B)\n",
    "$$\n",
    "$$\n",
    "Profit_A(P_A, P_B) = P_A \\cdot Q_A - c(Q_A) \n",
    "$$"
   ]
  },
  {
   "cell_type": "markdown",
   "metadata": {},
   "source": [
    "$$\n",
    "\\frac\n",
    "    {\\partial{Profit_A}}\n",
    "    {\\partial{P_A}} = \n",
    "$$"
   ]
  },
  {
   "cell_type": "markdown",
   "metadata": {},
   "source": [
    "$$\n",
    "= \\frac\n",
    "    {\\partial{(P_A \\cdot (100 - P_A + 0.5 \\cdot P_B) - (600 + 10 \\cdot (100 - P_A + 0.5 \\cdot P_B) + 0.25 \\cdot (100 - P_A + 0.5 \\cdot P_B)^2))}}\n",
    "    {\\partial{P_A}} =\n",
    "$$"
   ]
  },
  {
   "cell_type": "markdown",
   "metadata": {},
   "source": [
    "$$\n",
    "= -2.5P_A + 0.75P_B + 160 = 0\n",
    "$$"
   ]
  },
  {
   "cell_type": "markdown",
   "metadata": {},
   "source": [
    "$$\n",
    "Profit_B(P_A, P_B) = P_B \\cdot Q_B - c(Q_B)\n",
    "$$"
   ]
  },
  {
   "cell_type": "markdown",
   "metadata": {},
   "source": [
    "$$\n",
    "\\frac\n",
    "    {\\partial{Profit_B}} \n",
    "    {\\partial{P_B}} =\n",
    "$$"
   ]
  },
  {
   "cell_type": "markdown",
   "metadata": {},
   "source": [
    "$$\n",
    "\\frac\n",
    "    {\\partial{(P_B \\cdot (100 - P_B + 0.5 \\cdot P_A) - (25(100 - P_A + 0.5 \\cdot P_B) + 0.5(100 - P_B + 0.5 \\cdot P_A)^2))}}\n",
    "    {\\partial{P_B}} =\n",
    "$$"
   ]
  },
  {
   "cell_type": "markdown",
   "metadata": {},
   "source": [
    "$$\n",
    "= -3P_B + P_A + 187.5 = 0\n",
    "$$"
   ]
  },
  {
   "cell_type": "markdown",
   "metadata": {},
   "source": [
    "Я так і не зміг розібратись, що тут далі робити :("
   ]
  },
  {
   "cell_type": "markdown",
   "metadata": {},
   "source": [
    "**4**"
   ]
  },
  {
   "cell_type": "markdown",
   "metadata": {},
   "source": [
    "Вам 37 років, ваш місячний дохід складає 2000 доларів, і щороку ваш дохід зростатиме на 8%. На пенсію ви плануєте вийти у 70 років і прожити – до 100 років. Інфляція в доларах складатиме в середньому 3% річних. Всю частину доходу, яку ви не спожили протягом місяця, ви маєте можливість заощаджувати з номінальною доходністю 4% річних.\n",
    "Який максимальний сталий рівень споживання ви можете досягнути від сьогодні до 100 років у заданих припущеннях? "
   ]
  },
  {
   "cell_type": "markdown",
   "metadata": {},
   "source": [
    "Я не зміг розібратись, як користуватись формулою з лекцій для випадку, коли приріст доходу не рівний інфляції, тому вирішив зробити цю задачу використовуючи мої навики з програмування."
   ]
  },
  {
   "cell_type": "code",
   "execution_count": 30,
   "metadata": {},
   "outputs": [],
   "source": [
    "def f(consumption):\n",
    "    curr_age = 37\n",
    "    salary = 2000\n",
    "    salary_annual_increase = 0.08\n",
    "    pension_age = 70\n",
    "    dead_age = 100\n",
    "    inflation_rate = 0.03\n",
    "    bank_rate = 0.04\n",
    "\n",
    "    bank_account = 0\n",
    "    curr_salary = salary\n",
    "\n",
    "    for i in range(pension_age - curr_age):\n",
    "        bank_account += (12 * salary - consumption)\n",
    "        bank_account *= (1 + bank_rate)\n",
    "        consumption *= (1 + inflation_rate)\n",
    "        salary *= (1 + salary_annual_increase - inflation_rate)\n",
    "\n",
    "    for i in range(dead_age - pension_age):\n",
    "        bank_account -= consumption\n",
    "        consumption *= (1 + inflation_rate)\n",
    "        bank_account *= (1 + bank_rate)\n",
    "\n",
    "    return bank_account"
   ]
  },
  {
   "cell_type": "code",
   "execution_count": 31,
   "metadata": {},
   "outputs": [
    {
     "name": "stdout",
     "output_type": "stream",
     "text": [
      "19546.927 0.687633668793\n",
      "19546.928 0.126529089648\n",
      "19546.929 -0.434575496005\n",
      "19546.93 -0.995680081128\n"
     ]
    }
   ],
   "source": [
    "import numpy as np\n",
    "\n",
    "for cons in np.arange(19546, 19547, 0.001):\n",
    "    result = f(cons)\n",
    "    if -1 < result < 1:\n",
    "        print(cons, result)"
   ]
  },
  {
   "cell_type": "code",
   "execution_count": 47,
   "metadata": {},
   "outputs": [
    {
     "name": "stdout",
     "output_type": "stream",
     "text": [
      "1628.8333333333333\n"
     ]
    }
   ],
   "source": [
    "print(19546 / 12)"
   ]
  },
  {
   "cell_type": "markdown",
   "metadata": {},
   "source": [
    "Відповідь: максимальний сталий рівень споживання рівний 1628.83 \\$ в перерахунку на сьогоднішну вартість грошей."
   ]
  }
 ],
 "metadata": {
  "kernelspec": {
   "display_name": "Python 3",
   "language": "python",
   "name": "python3"
  },
  "language_info": {
   "codemirror_mode": {
    "name": "ipython",
    "version": 3
   },
   "file_extension": ".py",
   "mimetype": "text/x-python",
   "name": "python",
   "nbconvert_exporter": "python",
   "pygments_lexer": "ipython3",
   "version": "3.6.5"
  }
 },
 "nbformat": 4,
 "nbformat_minor": 2
}
