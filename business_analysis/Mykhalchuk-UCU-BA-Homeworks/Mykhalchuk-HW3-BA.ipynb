{
 "cells": [
  {
   "cell_type": "markdown",
   "metadata": {},
   "source": [
    "**1.1**"
   ]
  },
  {
   "cell_type": "code",
   "execution_count": 1,
   "metadata": {},
   "outputs": [],
   "source": [
    "import matplotlib.pylab as plt\n",
    "import numpy as np\n",
    "import warnings\n",
    "\n",
    "\n",
    "warnings.filterwarnings(\"ignore\")\n",
    "%matplotlib inline"
   ]
  },
  {
   "cell_type": "code",
   "execution_count": 2,
   "metadata": {},
   "outputs": [
    {
     "data": {
      "image/png": "[encoded data removed]",
      "text/plain": [
       "<matplotlib.figure.Figure at 0x7f11e7d5fa58>"
      ]
     },
     "metadata": {},
     "output_type": "display_data"
    }
   ],
   "source": [
    "def demand(p, a, b):\n",
    "    return np.exp(-a * p - b)\n",
    "\n",
    "\n",
    "def total_cost(d):\n",
    "    return 2 + 9 * d + 0.1*(d ** 2)\n",
    "\n",
    "\n",
    "def profit(a, b, price):    \n",
    "    d = demand(price, a, b)\n",
    "    c = total_cost(d)\n",
    "    return d * price - c\n",
    "\n",
    "\n",
    "a = 0.1\n",
    "b = -3\n",
    "prices = range(1, 100)\n",
    "profits = [profit(a, b, price) for price in prices]\n",
    "plt.plot(prices, profits)\n",
    "plt.xlabel(\"Price\")\n",
    "plt.ylabel(\"Profit\")\n",
    "plt.show()"
   ]
  },
  {
   "cell_type": "markdown",
   "metadata": {},
   "source": [
    "**1.2**"
   ]
  },
  {
   "cell_type": "code",
   "execution_count": 3,
   "metadata": {},
   "outputs": [
    {
     "name": "stdout",
     "output_type": "stream",
     "text": [
      "Max profit: 27.162194503156428, optimal price: 20\n"
     ]
    }
   ],
   "source": [
    "max_profit = max(profits)\n",
    "optimal_price = prices[profits.index(max_profit)]\n",
    "print(\"Max profit: {}, optimal price: {}\".format(max_profit, optimal_price))"
   ]
  },
  {
   "cell_type": "markdown",
   "metadata": {},
   "source": [
    "**1.3**"
   ]
  },
  {
   "cell_type": "code",
   "execution_count": 4,
   "metadata": {},
   "outputs": [
    {
     "data": {
      "image/png": "[encoded data removed]",
      "text/plain": [
       "<matplotlib.figure.Figure at 0x7f11e8030f98>"
      ]
     },
     "metadata": {},
     "output_type": "display_data"
    }
   ],
   "source": [
    "a = 0.1\n",
    "b = -3.4\n",
    "\n",
    "prices = range(1, 100)\n",
    "profits = [profit(a, b, price) for price in prices]\n",
    "plt.plot(prices, profits)\n",
    "plt.xlabel(\"Price\")\n",
    "plt.ylabel(\"Profit\")\n",
    "plt.show()"
   ]
  },
  {
   "cell_type": "code",
   "execution_count": 5,
   "metadata": {},
   "outputs": [
    {
     "name": "stdout",
     "output_type": "stream",
     "text": [
      "Max profit: 40.96273495818172, optimal price: 20\n"
     ]
    }
   ],
   "source": [
    "max_profit = max(profits)\n",
    "optimal_price = prices[profits.index(max_profit)]\n",
    "print(\"Max profit: {}, optimal price: {}\".format(max_profit, optimal_price))"
   ]
  },
  {
   "cell_type": "markdown",
   "metadata": {},
   "source": [
    "Зміна прибутку: 40.96 - 27.16 = 13.8  \n",
    "Витрати на рекламу: 10  \n",
    "Отже, витрати на рекламу були доцільними, бо прибуток внаслідок цього збільшився на величину більшу, ніж затрати на рекламу."
   ]
  },
  {
   "cell_type": "markdown",
   "metadata": {},
   "source": [
    "**2.1**"
   ]
  },
  {
   "cell_type": "code",
   "execution_count": 6,
   "metadata": {},
   "outputs": [
    {
     "name": "stdout",
     "output_type": "stream",
     "text": [
      "a: 0.09373065550147375, b: -3.0195444856202194\n"
     ]
    }
   ],
   "source": [
    "from scipy import optimize\n",
    "\n",
    "\n",
    "def demand(p, a, b):\n",
    "    return np.exp(-a * p - b)\n",
    "\n",
    "\n",
    "prices = [25, 20, 15, 13, 10]\n",
    "quantities = [2, 3, 5.2, 6, 8]\n",
    "\n",
    "(a1, b1), _ = optimize.curve_fit(demand, prices, quantities)\n",
    "\n",
    "print(\"a: {}, b: {}\".format(a1, b1))"
   ]
  },
  {
   "cell_type": "markdown",
   "metadata": {},
   "source": [
    "**2.2**"
   ]
  },
  {
   "cell_type": "code",
   "execution_count": 7,
   "metadata": {},
   "outputs": [
    {
     "name": "stdout",
     "output_type": "stream",
     "text": [
      "new a: 0.08552633911849611, new b: -3.0848268264700325\n"
     ]
    }
   ],
   "source": [
    "prices = [25, 22, 18, 15, 11]\n",
    "quantities = [2, 3, 5, 7, 8]\n",
    "\n",
    "(a2, b2), _ = optimize.curve_fit(demand, prices, quantities)\n",
    "\n",
    "print(\"new a: {}, new b: {}\".format(a2, b2))"
   ]
  },
  {
   "cell_type": "markdown",
   "metadata": {},
   "source": [
    "**2.3**"
   ]
  },
  {
   "cell_type": "markdown",
   "metadata": {},
   "source": [
    "$$\n",
    "agg\\_d(p, a_1, b_1, a_2, b_2) = d(p, a_1, b_1) + d(p, a_2, b_2) = e^{(-a_1 \\cdot p - b_1)} + e^{(-a_2 \\cdot p - b_2)}\n",
    "$$"
   ]
  },
  {
   "cell_type": "markdown",
   "metadata": {},
   "source": [
    "**2.4**"
   ]
  },
  {
   "cell_type": "code",
   "execution_count": 12,
   "metadata": {},
   "outputs": [
    {
     "name": "stdout",
     "output_type": "stream",
     "text": [
      "Max aggregated profit: 136.34207258779153\n",
      "optimal aggregated price: 14\n"
     ]
    }
   ],
   "source": [
    "def cost(quantity):\n",
    "    return 3 + 2.5 * quantity\n",
    "\n",
    "def agg_profit(p, a1, b1, a2, b2):\n",
    "    d = demand(p, a1, b1) + demand(p, a2, b2)\n",
    "    c = cost(d)\n",
    "    return d * p - c\n",
    "\n",
    "prices = range(1, 100)\n",
    "profits = [agg_profit(price, a1, b1, a2, b2) for price in prices]\n",
    "\n",
    "max_profit = max(profits)\n",
    "optimal_price = prices[profits.index(max_profit)]\n",
    "print(\"Max aggregated profit: {}\\noptimal aggregated price: {}\".format(max_profit, optimal_price))"
   ]
  },
  {
   "cell_type": "markdown",
   "metadata": {},
   "source": [
    "**2.5**"
   ]
  },
  {
   "cell_type": "code",
   "execution_count": 13,
   "metadata": {},
   "outputs": [
    {
     "name": "stdout",
     "output_type": "stream",
     "text": [
      "Max profit in first channel: 60.58777413365762\n",
      "optimal price in first channel: 13\n"
     ]
    }
   ],
   "source": [
    "def profit(p, a, b):\n",
    "    d = demand(p, a, b)\n",
    "    c = cost(d)\n",
    "    return d * p - c \n",
    "\n",
    "\n",
    "prices = [price for price in range(0, 50)]\n",
    "profits = [profit(price, a1, b1) for price in prices]\n",
    "\n",
    "max_profit = max(profits)\n",
    "optimal_price = prices[profits.index(max_profit)]\n",
    "print(\"Max profit in first channel: {}\\noptimal price in first channel: {}\".format(max_profit, optimal_price))"
   ]
  },
  {
   "cell_type": "code",
   "execution_count": 14,
   "metadata": {},
   "outputs": [
    {
     "name": "stdout",
     "output_type": "stream",
     "text": [
      "Max profit in second channel: 72.92948754675376\n",
      "optimal price in second channel: 14\n"
     ]
    }
   ],
   "source": [
    "prices = [price for price in range(0, 50)]\n",
    "profits = [profit(price, a2, b2) for price in prices]\n",
    "\n",
    "max_profit = max(profits)\n",
    "optimal_price = prices[profits.index(max_profit)]\n",
    "print(\"Max profit in second channel: {}\\noptimal price in second channel: {}\".format(max_profit, optimal_price))"
   ]
  },
  {
   "cell_type": "markdown",
   "metadata": {},
   "source": [
    "**2.6**"
   ]
  },
  {
   "cell_type": "markdown",
   "metadata": {},
   "source": [
    "Компанія отримає більший прибуток у випадку 2.4 тому, що сума прибутків у випадку 2.5 є рівною 133.51, а у 2.4 відповідно 136.34"
   ]
  },
  {
   "cell_type": "markdown",
   "metadata": {},
   "source": [
    "**5**"
   ]
  },
  {
   "cell_type": "markdown",
   "metadata": {},
   "source": [
    "|  | Гонорар \\$20 | Гонорар \\$25 \n",
    "| --- | --- | \n",
    "| Гонорар \\$20 | \\$100; \\$100 | \\$50; \\$150 |\n",
    "| Гонорар \\$25 | \\$150; \\$50 | \\$85; \\$85 |"
   ]
  },
  {
   "cell_type": "markdown",
   "metadata": {},
   "source": [
    "В цій грі рівновагою Неша буде вибір обох надати гонорари по \\$25, бо якщо одна з компаній вибирає надати гонорар \\$20, то іншій вигідніше вибрати гонорар \\$25, що не є вигідно першій компанії."
   ]
  }
 ],
 "metadata": {
  "kernelspec": {
   "display_name": "Python 3",
   "language": "python",
   "name": "python3"
  },
  "language_info": {
   "codemirror_mode": {
    "name": "ipython",
    "version": 3
   },
   "file_extension": ".py",
   "mimetype": "text/x-python",
   "name": "python",
   "nbconvert_exporter": "python",
   "pygments_lexer": "ipython3",
   "version": "3.6.5"
  }
 },
 "nbformat": 4,
 "nbformat_minor": 2
}
