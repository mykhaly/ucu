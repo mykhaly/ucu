{
 "cells": [
  {
   "cell_type": "code",
   "execution_count": 14,
   "metadata": {
    "colab": {
     "autoexec": {
      "startup": false,
      "wait_interval": 0
     }
    },
    "colab_type": "code",
    "id": "j-7OdcLajAHT",
    "outputId": "4be0372a-5d22-4db8-cc98-4c9b140f1d05"
   },
   "outputs": [],
   "source": [
    "import pandas as pd\n",
    "from numpy import mean, std, cov\n",
    "from scipy.stats import skew, kurtosis"
   ]
  },
  {
   "cell_type": "code",
   "execution_count": 16,
   "metadata": {},
   "outputs": [
    {
     "name": "stdout",
     "output_type": "stream",
     "text": [
      "AAPL\n",
      "Mean 63.057919708\n",
      "STD 22.9360314434\n",
      "Skewness 0.29153522088618433\n",
      "Kurtosis -0.6939912244038653\n",
      "\n",
      "\n",
      "GOOGL\n",
      "Mean 375.853029197\n",
      "STD 117.07845661\n",
      "Skewness 0.6847229388782721\n",
      "Kurtosis -1.0133229781223239\n",
      "\n",
      "\n",
      "MSFT\n",
      "Mean 29.7958029197\n",
      "STD 7.41678754543\n",
      "Skewness 1.0742425845201233\n",
      "Kurtosis 0.06460373194502766\n",
      "\n",
      "\n",
      "AMZN\n",
      "Mean 234.865693431\n",
      "STD 76.6446975925\n",
      "Skewness 0.24169955454234018\n",
      "Kurtosis -0.9457179502476105\n",
      "\n",
      "\n",
      "YHOO\n",
      "Mean 23.0267153285\n",
      "STD 10.5198601618\n",
      "Skewness 1.1142496888773243\n",
      "Kurtosis -0.006112307436910047\n",
      "\n",
      "\n",
      "NFLX\n",
      "Mean 205.261094891\n",
      "STD 126.763672403\n",
      "Skewness 0.5683380816748805\n",
      "Kurtosis -0.9125535631387569\n",
      "\n",
      "\n",
      "S&P500\n",
      "Mean 1467.38364964\n",
      "STD 301.973209911\n",
      "Skewness 0.5115565552388366\n",
      "Kurtosis -1.0105500079492145\n",
      "\n",
      "\n",
      "Covariance matrix:\n",
      "[[ 137384.01906667  141704.48058333  144789.24385    ...,  260990.10808333\n",
      "   257833.72426667  258997.77083333]\n",
      " [ 141704.48058333  146163.07504762  149345.99912619 ...,  269238.4841881\n",
      "   265978.5373881   267186.2393381 ]\n",
      " [ 144789.24385     149345.99912619  152601.67769524 ...,  275110.61271429\n",
      "   271788.50503095  273045.37116429]\n",
      " ..., \n",
      " [ 260990.10808333  269238.4841881   275110.61271429 ...,  502184.79375714\n",
      "   496265.96910714  500878.40469048]\n",
      " [ 257833.72426667  265978.5373881   271788.50503095 ...,  496265.96910714\n",
      "   490481.80935714  495223.83100714]\n",
      " [ 258997.77083333  267186.2393381   273045.37116429 ...,  500878.40469048\n",
      "   495223.83100714  501148.86772381]]\n"
     ]
    }
   ],
   "source": [
    "data = pd.read_excel('/home/mykhal/ucu/ucu/business_analysis/stock_data.xlsx', \n",
    "                     sheet_name=\"page1\").dropna()[['AAPL', 'GOOGL', 'MSFT', 'AMZN', 'YHOO', 'NFLX', 'S&P500']]\n",
    "\n",
    "for column in df.columns:\n",
    "    print(column)\n",
    "    data = df[column]\n",
    "    print(\"Mean\", mean(data))\n",
    "    print(\"STD\", std(data))\n",
    "    print(\"Skewness\", skew(data))\n",
    "    print(\"Kurtosis\", kurtosis(data))\n",
    "    print(\"\\n\")\n",
    "\n",
    "print(\"Covariance matrix:\\n{}\".format(cov(df)))"
   ]
  },
  {
   "cell_type": "code",
   "execution_count": 0,
   "metadata": {
    "colab": {
     "autoexec": {
      "startup": false,
      "wait_interval": 0
     }
    },
    "colab_type": "code",
    "id": "Ryz2IuSRjAHa"
   },
   "outputs": [],
   "source": []
  }
 ],
 "metadata": {
  "colab": {
   "default_view": {},
   "name": "HW 6.ipynb",
   "provenance": [],
   "version": "0.3.2",
   "views": {}
  },
  "kernelspec": {
   "display_name": "Python 3",
   "language": "python",
   "name": "python3"
  },
  "language_info": {
   "codemirror_mode": {
    "name": "ipython",
    "version": 3
   },
   "file_extension": ".py",
   "mimetype": "text/x-python",
   "name": "python",
   "nbconvert_exporter": "python",
   "pygments_lexer": "ipython3",
   "version": "3.6.5"
  }
 },
 "nbformat": 4,
 "nbformat_minor": 1
}
