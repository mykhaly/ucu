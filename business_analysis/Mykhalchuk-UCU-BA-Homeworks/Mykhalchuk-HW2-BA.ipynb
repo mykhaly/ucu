{
 "cells": [
  {
   "cell_type": "markdown",
   "metadata": {},
   "source": [
    "**1**"
   ]
  },
  {
   "cell_type": "code",
   "execution_count": 1,
   "metadata": {
    "colab": {
     "autoexec": {
      "startup": false,
      "wait_interval": 0
     }
    },
    "colab_type": "code",
    "id": "WZrLTWEOUQDq"
   },
   "outputs": [],
   "source": [
    "import pandas as pd\n",
    "from statsmodels import api \n",
    "import warnings\n",
    "\n",
    "\n",
    "warnings.filterwarnings(\"ignore\")"
   ]
  },
  {
   "cell_type": "code",
   "execution_count": 2,
   "metadata": {
    "colab": {
     "autoexec": {
      "startup": false,
      "wait_interval": 0
     }
    },
    "colab_type": "code",
    "id": "xzABNuApUQDw"
   },
   "outputs": [],
   "source": [
    "data = pd.read_stata('./sales_3.dta')"
   ]
  },
  {
   "cell_type": "code",
   "execution_count": 3,
   "metadata": {
    "colab": {
     "autoexec": {
      "startup": false,
      "wait_interval": 0
     }
    },
    "colab_type": "code",
    "id": "nADch6bWUQD5",
    "outputId": "c4d75ef5-2028-4331-984a-128fb14ae944"
   },
   "outputs": [
    {
     "data": {
      "text/html": [
       "<table class=\"simpletable\">\n",
       "<caption>OLS Regression Results</caption>\n",
       "<tr>\n",
       "  <th>Dep. Variable:</th>          <td>sales</td>      <th>  R-squared:         </th> <td>   0.991</td>\n",
       "</tr>\n",
       "<tr>\n",
       "  <th>Model:</th>                   <td>OLS</td>       <th>  Adj. R-squared:    </th> <td>   0.991</td>\n",
       "</tr>\n",
       "<tr>\n",
       "  <th>Method:</th>             <td>Least Squares</td>  <th>  F-statistic:       </th> <td>   1490.</td>\n",
       "</tr>\n",
       "<tr>\n",
       "  <th>Date:</th>             <td>Sun, 24 Jun 2018</td> <th>  Prob (F-statistic):</th> <td>9.69e-54</td>\n",
       "</tr>\n",
       "<tr>\n",
       "  <th>Time:</th>                 <td>18:58:25</td>     <th>  Log-Likelihood:    </th> <td> -751.13</td>\n",
       "</tr>\n",
       "<tr>\n",
       "  <th>No. Observations:</th>      <td>    57</td>      <th>  AIC:               </th> <td>   1510.</td>\n",
       "</tr>\n",
       "<tr>\n",
       "  <th>Df Residuals:</th>          <td>    53</td>      <th>  BIC:               </th> <td>   1518.</td>\n",
       "</tr>\n",
       "<tr>\n",
       "  <th>Df Model:</th>              <td>     4</td>      <th>                     </th>     <td> </td>   \n",
       "</tr>\n",
       "<tr>\n",
       "  <th>Covariance Type:</th>      <td>nonrobust</td>    <th>                     </th>     <td> </td>   \n",
       "</tr>\n",
       "</table>\n",
       "<table class=\"simpletable\">\n",
       "<tr>\n",
       "     <td></td>        <th>coef</th>     <th>std err</th>      <th>t</th>      <th>P>|t|</th>  <th>[0.025</th>    <th>0.975]</th>  \n",
       "</tr>\n",
       "<tr>\n",
       "  <th>area</th>    <td> 3344.8257</td> <td>   77.914</td> <td>   42.930</td> <td> 0.000</td> <td> 3188.550</td> <td> 3501.102</td>\n",
       "</tr>\n",
       "<tr>\n",
       "  <th>cluster</th> <td> 2.001e+05</td> <td> 2.12e+04</td> <td>    9.437</td> <td> 0.000</td> <td> 1.58e+05</td> <td> 2.43e+05</td>\n",
       "</tr>\n",
       "<tr>\n",
       "  <th>bread</th>   <td>-2.607e+04</td> <td> 5.56e+04</td> <td>   -0.469</td> <td> 0.641</td> <td>-1.38e+05</td> <td> 8.54e+04</td>\n",
       "</tr>\n",
       "<tr>\n",
       "  <th>parking</th> <td> 1.658e+04</td> <td> 5.86e+04</td> <td>    0.283</td> <td> 0.778</td> <td>-1.01e+05</td> <td> 1.34e+05</td>\n",
       "</tr>\n",
       "</table>\n",
       "<table class=\"simpletable\">\n",
       "<tr>\n",
       "  <th>Omnibus:</th>       <td> 1.012</td> <th>  Durbin-Watson:     </th> <td>   1.511</td>\n",
       "</tr>\n",
       "<tr>\n",
       "  <th>Prob(Omnibus):</th> <td> 0.603</td> <th>  Jarque-Bera (JB):  </th> <td>   0.913</td>\n",
       "</tr>\n",
       "<tr>\n",
       "  <th>Skew:</th>          <td>-0.063</td> <th>  Prob(JB):          </th> <td>   0.633</td>\n",
       "</tr>\n",
       "<tr>\n",
       "  <th>Kurtosis:</th>      <td> 2.393</td> <th>  Cond. No.          </th> <td>1.21e+03</td>\n",
       "</tr>\n",
       "</table><br/><br/>Warnings:<br/>[1] Standard Errors assume that the covariance matrix of the errors is correctly specified.<br/>[2] The condition number is large, 1.21e+03. This might indicate that there are<br/>strong multicollinearity or other numerical problems."
      ],
      "text/plain": [
       "<class 'statsmodels.iolib.summary.Summary'>\n",
       "\"\"\"\n",
       "                            OLS Regression Results                            \n",
       "==============================================================================\n",
       "Dep. Variable:                  sales   R-squared:                       0.991\n",
       "Model:                            OLS   Adj. R-squared:                  0.991\n",
       "Method:                 Least Squares   F-statistic:                     1490.\n",
       "Date:                Sun, 24 Jun 2018   Prob (F-statistic):           9.69e-54\n",
       "Time:                        18:58:25   Log-Likelihood:                -751.13\n",
       "No. Observations:                  57   AIC:                             1510.\n",
       "Df Residuals:                      53   BIC:                             1518.\n",
       "Df Model:                           4                                         \n",
       "Covariance Type:            nonrobust                                         \n",
       "==============================================================================\n",
       "                 coef    std err          t      P>|t|      [0.025      0.975]\n",
       "------------------------------------------------------------------------------\n",
       "area        3344.8257     77.914     42.930      0.000    3188.550    3501.102\n",
       "cluster     2.001e+05   2.12e+04      9.437      0.000    1.58e+05    2.43e+05\n",
       "bread      -2.607e+04   5.56e+04     -0.469      0.641   -1.38e+05    8.54e+04\n",
       "parking     1.658e+04   5.86e+04      0.283      0.778   -1.01e+05    1.34e+05\n",
       "==============================================================================\n",
       "Omnibus:                        1.012   Durbin-Watson:                   1.511\n",
       "Prob(Omnibus):                  0.603   Jarque-Bera (JB):                0.913\n",
       "Skew:                          -0.063   Prob(JB):                        0.633\n",
       "Kurtosis:                       2.393   Cond. No.                     1.21e+03\n",
       "==============================================================================\n",
       "\n",
       "Warnings:\n",
       "[1] Standard Errors assume that the covariance matrix of the errors is correctly specified.\n",
       "[2] The condition number is large, 1.21e+03. This might indicate that there are\n",
       "strong multicollinearity or other numerical problems.\n",
       "\"\"\""
      ]
     },
     "execution_count": 3,
     "metadata": {},
     "output_type": "execute_result"
    }
   ],
   "source": [
    "api.OLS(data['sales'], \n",
    "       data[['area', 'cluster', 'bread', 'parking']]).fit().summary()"
   ]
  },
  {
   "cell_type": "code",
   "execution_count": 4,
   "metadata": {
    "colab": {
     "autoexec": {
      "startup": false,
      "wait_interval": 0
     }
    },
    "colab_type": "code",
    "id": "ua7XveRjUQD9",
    "outputId": "d1bf49e2-730e-4385-f001-ed3f75fde6d7"
   },
   "outputs": [
    {
     "data": {
      "text/html": [
       "<table class=\"simpletable\">\n",
       "<caption>OLS Regression Results</caption>\n",
       "<tr>\n",
       "  <th>Dep. Variable:</th>          <td>sales</td>      <th>  R-squared:         </th> <td>   0.991</td>\n",
       "</tr>\n",
       "<tr>\n",
       "  <th>Model:</th>                   <td>OLS</td>       <th>  Adj. R-squared:    </th> <td>   0.991</td>\n",
       "</tr>\n",
       "<tr>\n",
       "  <th>Method:</th>             <td>Least Squares</td>  <th>  F-statistic:       </th> <td>   2021.</td>\n",
       "</tr>\n",
       "<tr>\n",
       "  <th>Date:</th>             <td>Sun, 24 Jun 2018</td> <th>  Prob (F-statistic):</th> <td>2.06e-55</td>\n",
       "</tr>\n",
       "<tr>\n",
       "  <th>Time:</th>                 <td>18:58:25</td>     <th>  Log-Likelihood:    </th> <td> -751.17</td>\n",
       "</tr>\n",
       "<tr>\n",
       "  <th>No. Observations:</th>      <td>    57</td>      <th>  AIC:               </th> <td>   1508.</td>\n",
       "</tr>\n",
       "<tr>\n",
       "  <th>Df Residuals:</th>          <td>    54</td>      <th>  BIC:               </th> <td>   1514.</td>\n",
       "</tr>\n",
       "<tr>\n",
       "  <th>Df Model:</th>              <td>     3</td>      <th>                     </th>     <td> </td>   \n",
       "</tr>\n",
       "<tr>\n",
       "  <th>Covariance Type:</th>      <td>nonrobust</td>    <th>                     </th>     <td> </td>   \n",
       "</tr>\n",
       "</table>\n",
       "<table class=\"simpletable\">\n",
       "<tr>\n",
       "     <td></td>        <th>coef</th>     <th>std err</th>      <th>t</th>      <th>P>|t|</th>  <th>[0.025</th>    <th>0.975]</th>  \n",
       "</tr>\n",
       "<tr>\n",
       "  <th>area</th>    <td> 3338.7566</td> <td>   74.260</td> <td>   44.960</td> <td> 0.000</td> <td> 3189.874</td> <td> 3487.639</td>\n",
       "</tr>\n",
       "<tr>\n",
       "  <th>cluster</th> <td> 2.046e+05</td> <td>  1.4e+04</td> <td>   14.660</td> <td> 0.000</td> <td> 1.77e+05</td> <td> 2.33e+05</td>\n",
       "</tr>\n",
       "<tr>\n",
       "  <th>bread</th>   <td>-3.266e+04</td> <td> 5.01e+04</td> <td>   -0.653</td> <td> 0.517</td> <td>-1.33e+05</td> <td> 6.77e+04</td>\n",
       "</tr>\n",
       "</table>\n",
       "<table class=\"simpletable\">\n",
       "<tr>\n",
       "  <th>Omnibus:</th>       <td> 1.021</td> <th>  Durbin-Watson:     </th> <td>   1.512</td>\n",
       "</tr>\n",
       "<tr>\n",
       "  <th>Prob(Omnibus):</th> <td> 0.600</td> <th>  Jarque-Bera (JB):  </th> <td>   0.913</td>\n",
       "</tr>\n",
       "<tr>\n",
       "  <th>Skew:</th>          <td>-0.055</td> <th>  Prob(JB):          </th> <td>   0.633</td>\n",
       "</tr>\n",
       "<tr>\n",
       "  <th>Kurtosis:</th>      <td> 2.390</td> <th>  Cond. No.          </th> <td>    880.</td>\n",
       "</tr>\n",
       "</table><br/><br/>Warnings:<br/>[1] Standard Errors assume that the covariance matrix of the errors is correctly specified."
      ],
      "text/plain": [
       "<class 'statsmodels.iolib.summary.Summary'>\n",
       "\"\"\"\n",
       "                            OLS Regression Results                            \n",
       "==============================================================================\n",
       "Dep. Variable:                  sales   R-squared:                       0.991\n",
       "Model:                            OLS   Adj. R-squared:                  0.991\n",
       "Method:                 Least Squares   F-statistic:                     2021.\n",
       "Date:                Sun, 24 Jun 2018   Prob (F-statistic):           2.06e-55\n",
       "Time:                        18:58:25   Log-Likelihood:                -751.17\n",
       "No. Observations:                  57   AIC:                             1508.\n",
       "Df Residuals:                      54   BIC:                             1514.\n",
       "Df Model:                           3                                         \n",
       "Covariance Type:            nonrobust                                         \n",
       "==============================================================================\n",
       "                 coef    std err          t      P>|t|      [0.025      0.975]\n",
       "------------------------------------------------------------------------------\n",
       "area        3338.7566     74.260     44.960      0.000    3189.874    3487.639\n",
       "cluster     2.046e+05    1.4e+04     14.660      0.000    1.77e+05    2.33e+05\n",
       "bread      -3.266e+04   5.01e+04     -0.653      0.517   -1.33e+05    6.77e+04\n",
       "==============================================================================\n",
       "Omnibus:                        1.021   Durbin-Watson:                   1.512\n",
       "Prob(Omnibus):                  0.600   Jarque-Bera (JB):                0.913\n",
       "Skew:                          -0.055   Prob(JB):                        0.633\n",
       "Kurtosis:                       2.390   Cond. No.                         880.\n",
       "==============================================================================\n",
       "\n",
       "Warnings:\n",
       "[1] Standard Errors assume that the covariance matrix of the errors is correctly specified.\n",
       "\"\"\""
      ]
     },
     "execution_count": 4,
     "metadata": {},
     "output_type": "execute_result"
    }
   ],
   "source": [
    "api.OLS(data['sales'], \n",
    "       data[['area', 'cluster', 'bread']]).fit().summary()"
   ]
  },
  {
   "cell_type": "code",
   "execution_count": 5,
   "metadata": {
    "colab": {
     "autoexec": {
      "startup": false,
      "wait_interval": 0
     }
    },
    "colab_type": "code",
    "id": "OijtqhToUQEA",
    "outputId": "044f1d32-de7a-404e-9408-800ecb6ab424"
   },
   "outputs": [
    {
     "data": {
      "text/html": [
       "<table class=\"simpletable\">\n",
       "<caption>OLS Regression Results</caption>\n",
       "<tr>\n",
       "  <th>Dep. Variable:</th>          <td>sales</td>      <th>  R-squared:         </th> <td>   0.991</td>\n",
       "</tr>\n",
       "<tr>\n",
       "  <th>Model:</th>                   <td>OLS</td>       <th>  Adj. R-squared:    </th> <td>   0.991</td>\n",
       "</tr>\n",
       "<tr>\n",
       "  <th>Method:</th>             <td>Least Squares</td>  <th>  F-statistic:       </th> <td>   3063.</td>\n",
       "</tr>\n",
       "<tr>\n",
       "  <th>Date:</th>             <td>Sun, 24 Jun 2018</td> <th>  Prob (F-statistic):</th> <td>4.05e-57</td>\n",
       "</tr>\n",
       "<tr>\n",
       "  <th>Time:</th>                 <td>18:58:25</td>     <th>  Log-Likelihood:    </th> <td> -751.40</td>\n",
       "</tr>\n",
       "<tr>\n",
       "  <th>No. Observations:</th>      <td>    57</td>      <th>  AIC:               </th> <td>   1507.</td>\n",
       "</tr>\n",
       "<tr>\n",
       "  <th>Df Residuals:</th>          <td>    55</td>      <th>  BIC:               </th> <td>   1511.</td>\n",
       "</tr>\n",
       "<tr>\n",
       "  <th>Df Model:</th>              <td>     2</td>      <th>                     </th>     <td> </td>   \n",
       "</tr>\n",
       "<tr>\n",
       "  <th>Covariance Type:</th>      <td>nonrobust</td>    <th>                     </th>     <td> </td>   \n",
       "</tr>\n",
       "</table>\n",
       "<table class=\"simpletable\">\n",
       "<tr>\n",
       "     <td></td>        <th>coef</th>     <th>std err</th>      <th>t</th>      <th>P>|t|</th>  <th>[0.025</th>    <th>0.975]</th>  \n",
       "</tr>\n",
       "<tr>\n",
       "  <th>area</th>    <td> 3346.4617</td> <td>   72.932</td> <td>   45.885</td> <td> 0.000</td> <td> 3200.303</td> <td> 3492.620</td>\n",
       "</tr>\n",
       "<tr>\n",
       "  <th>cluster</th> <td> 1.975e+05</td> <td> 8773.424</td> <td>   22.515</td> <td> 0.000</td> <td>  1.8e+05</td> <td> 2.15e+05</td>\n",
       "</tr>\n",
       "</table>\n",
       "<table class=\"simpletable\">\n",
       "<tr>\n",
       "  <th>Omnibus:</th>       <td> 1.000</td> <th>  Durbin-Watson:     </th> <td>   1.570</td>\n",
       "</tr>\n",
       "<tr>\n",
       "  <th>Prob(Omnibus):</th> <td> 0.607</td> <th>  Jarque-Bera (JB):  </th> <td>   0.894</td>\n",
       "</tr>\n",
       "<tr>\n",
       "  <th>Skew:</th>          <td>-0.027</td> <th>  Prob(JB):          </th> <td>   0.639</td>\n",
       "</tr>\n",
       "<tr>\n",
       "  <th>Kurtosis:</th>      <td> 2.389</td> <th>  Cond. No.          </th> <td>    151.</td>\n",
       "</tr>\n",
       "</table><br/><br/>Warnings:<br/>[1] Standard Errors assume that the covariance matrix of the errors is correctly specified."
      ],
      "text/plain": [
       "<class 'statsmodels.iolib.summary.Summary'>\n",
       "\"\"\"\n",
       "                            OLS Regression Results                            \n",
       "==============================================================================\n",
       "Dep. Variable:                  sales   R-squared:                       0.991\n",
       "Model:                            OLS   Adj. R-squared:                  0.991\n",
       "Method:                 Least Squares   F-statistic:                     3063.\n",
       "Date:                Sun, 24 Jun 2018   Prob (F-statistic):           4.05e-57\n",
       "Time:                        18:58:25   Log-Likelihood:                -751.40\n",
       "No. Observations:                  57   AIC:                             1507.\n",
       "Df Residuals:                      55   BIC:                             1511.\n",
       "Df Model:                           2                                         \n",
       "Covariance Type:            nonrobust                                         \n",
       "==============================================================================\n",
       "                 coef    std err          t      P>|t|      [0.025      0.975]\n",
       "------------------------------------------------------------------------------\n",
       "area        3346.4617     72.932     45.885      0.000    3200.303    3492.620\n",
       "cluster     1.975e+05   8773.424     22.515      0.000     1.8e+05    2.15e+05\n",
       "==============================================================================\n",
       "Omnibus:                        1.000   Durbin-Watson:                   1.570\n",
       "Prob(Omnibus):                  0.607   Jarque-Bera (JB):                0.894\n",
       "Skew:                          -0.027   Prob(JB):                        0.639\n",
       "Kurtosis:                       2.389   Cond. No.                         151.\n",
       "==============================================================================\n",
       "\n",
       "Warnings:\n",
       "[1] Standard Errors assume that the covariance matrix of the errors is correctly specified.\n",
       "\"\"\""
      ]
     },
     "execution_count": 5,
     "metadata": {},
     "output_type": "execute_result"
    }
   ],
   "source": [
    "api.OLS(data['sales'], \n",
    "       data[['area', 'cluster']]).fit().summary()"
   ]
  },
  {
   "cell_type": "markdown",
   "metadata": {
    "colab_type": "text",
    "id": "yBEhFVytUQEE"
   },
   "source": [
    "На мою думку найкращою є остання модель, бо в неї найменший коефіцієнт Акаіке серед решти і в той же час однакове з ними значення для R-squared і adjusted R-squared."
   ]
  },
  {
   "cell_type": "markdown",
   "metadata": {
    "colab_type": "text",
    "id": "oK1RD6RAUQEG"
   },
   "source": [
    "**2**"
   ]
  },
  {
   "cell_type": "code",
   "execution_count": 6,
   "metadata": {
    "colab": {
     "autoexec": {
      "startup": false,
      "wait_interval": 0
     }
    },
    "colab_type": "code",
    "id": "uBsjuVWNUQEG"
   },
   "outputs": [],
   "source": [
    "data = pd.read_stata('./eva_netsales.dta')"
   ]
  },
  {
   "cell_type": "code",
   "execution_count": 7,
   "metadata": {
    "colab": {
     "autoexec": {
      "startup": false,
      "wait_interval": 0
     }
    },
    "colab_type": "code",
    "id": "sCFcFFM0UQEO",
    "outputId": "7ad44577-84f7-475a-c0f8-b9793702b63f"
   },
   "outputs": [
    {
     "name": "stdout",
     "output_type": "stream",
     "text": [
      "Predicted EVA 51.70320492744545 for NETSALES 150\n"
     ]
    }
   ],
   "source": [
    "model = api.OLS(data['EVA'], data['NETSALES']).fit()\n",
    "netsales = 150\n",
    "print(\"Predicted EVA {} for NETSALES {}\".format(model.predict(netsales)[0], netsales))"
   ]
  },
  {
   "cell_type": "code",
   "execution_count": 8,
   "metadata": {
    "colab": {
     "autoexec": {
      "startup": false,
      "wait_interval": 0
     }
    },
    "colab_type": "code",
    "id": "luMEO9f0UQES",
    "outputId": "95130b9b-3099-4bc0-cb1e-1fa8a3e4846f"
   },
   "outputs": [
    {
     "data": {
      "text/html": [
       "<table class=\"simpletable\">\n",
       "<caption>OLS Regression Results</caption>\n",
       "<tr>\n",
       "  <th>Dep. Variable:</th>           <td>EVA</td>       <th>  R-squared:         </th> <td>   0.795</td>\n",
       "</tr>\n",
       "<tr>\n",
       "  <th>Model:</th>                   <td>OLS</td>       <th>  Adj. R-squared:    </th> <td>   0.783</td>\n",
       "</tr>\n",
       "<tr>\n",
       "  <th>Method:</th>             <td>Least Squares</td>  <th>  F-statistic:       </th> <td>   65.79</td>\n",
       "</tr>\n",
       "<tr>\n",
       "  <th>Date:</th>             <td>Sun, 24 Jun 2018</td> <th>  Prob (F-statistic):</th> <td>3.02e-07</td>\n",
       "</tr>\n",
       "<tr>\n",
       "  <th>Time:</th>                 <td>18:58:25</td>     <th>  Log-Likelihood:    </th> <td> -58.618</td>\n",
       "</tr>\n",
       "<tr>\n",
       "  <th>No. Observations:</th>      <td>    18</td>      <th>  AIC:               </th> <td>   119.2</td>\n",
       "</tr>\n",
       "<tr>\n",
       "  <th>Df Residuals:</th>          <td>    17</td>      <th>  BIC:               </th> <td>   120.1</td>\n",
       "</tr>\n",
       "<tr>\n",
       "  <th>Df Model:</th>              <td>     1</td>      <th>                     </th>     <td> </td>   \n",
       "</tr>\n",
       "<tr>\n",
       "  <th>Covariance Type:</th>      <td>nonrobust</td>    <th>                     </th>     <td> </td>   \n",
       "</tr>\n",
       "</table>\n",
       "<table class=\"simpletable\">\n",
       "<tr>\n",
       "      <td></td>        <th>coef</th>     <th>std err</th>      <th>t</th>      <th>P>|t|</th>  <th>[0.025</th>    <th>0.975]</th>  \n",
       "</tr>\n",
       "<tr>\n",
       "  <th>NETSALES</th> <td>    0.3447</td> <td>    0.009</td> <td>   40.428</td> <td> 0.000</td> <td>    0.327</td> <td>    0.363</td>\n",
       "</tr>\n",
       "</table>\n",
       "<table class=\"simpletable\">\n",
       "<tr>\n",
       "  <th>Omnibus:</th>       <td>16.346</td> <th>  Durbin-Watson:     </th> <td>   1.596</td>\n",
       "</tr>\n",
       "<tr>\n",
       "  <th>Prob(Omnibus):</th> <td> 0.000</td> <th>  Jarque-Bera (JB):  </th> <td>  15.035</td>\n",
       "</tr>\n",
       "<tr>\n",
       "  <th>Skew:</th>          <td> 1.752</td> <th>  Prob(JB):          </th> <td>0.000543</td>\n",
       "</tr>\n",
       "<tr>\n",
       "  <th>Kurtosis:</th>      <td> 5.786</td> <th>  Cond. No.          </th> <td>    1.00</td>\n",
       "</tr>\n",
       "</table><br/><br/>Warnings:<br/>[1] Standard Errors assume that the covariance matrix of the errors is correctly specified."
      ],
      "text/plain": [
       "<class 'statsmodels.iolib.summary.Summary'>\n",
       "\"\"\"\n",
       "                            OLS Regression Results                            \n",
       "==============================================================================\n",
       "Dep. Variable:                    EVA   R-squared:                       0.795\n",
       "Model:                            OLS   Adj. R-squared:                  0.783\n",
       "Method:                 Least Squares   F-statistic:                     65.79\n",
       "Date:                Sun, 24 Jun 2018   Prob (F-statistic):           3.02e-07\n",
       "Time:                        18:58:25   Log-Likelihood:                -58.618\n",
       "No. Observations:                  18   AIC:                             119.2\n",
       "Df Residuals:                      17   BIC:                             120.1\n",
       "Df Model:                           1                                         \n",
       "Covariance Type:            nonrobust                                         \n",
       "==============================================================================\n",
       "                 coef    std err          t      P>|t|      [0.025      0.975]\n",
       "------------------------------------------------------------------------------\n",
       "NETSALES       0.3447      0.009     40.428      0.000       0.327       0.363\n",
       "==============================================================================\n",
       "Omnibus:                       16.346   Durbin-Watson:                   1.596\n",
       "Prob(Omnibus):                  0.000   Jarque-Bera (JB):               15.035\n",
       "Skew:                           1.752   Prob(JB):                     0.000543\n",
       "Kurtosis:                       5.786   Cond. No.                         1.00\n",
       "==============================================================================\n",
       "\n",
       "Warnings:\n",
       "[1] Standard Errors assume that the covariance matrix of the errors is correctly specified.\n",
       "\"\"\""
      ]
     },
     "execution_count": 8,
     "metadata": {},
     "output_type": "execute_result"
    }
   ],
   "source": [
    "model.summary()"
   ]
  },
  {
   "cell_type": "code",
   "execution_count": 9,
   "metadata": {
    "colab": {
     "autoexec": {
      "startup": false,
      "wait_interval": 0
     }
    },
    "colab_type": "code",
    "id": "LkhNHqVfUQEb",
    "outputId": "a99af7d3-d93f-434c-d2c3-b7c32fa885bb"
   },
   "outputs": [
    {
     "name": "stdout",
     "output_type": "stream",
     "text": [
      "Predicted EVA 51.705891418457036 for EBITDA 8.8\n"
     ]
    }
   ],
   "source": [
    "model = api.OLS(data['EVA'], data['EBITDA']).fit()\n",
    "ebitda = 8.8\n",
    "print(\"Predicted EVA {} for EBITDA {}\".format(model.predict(ebitda)[0], ebitda))"
   ]
  },
  {
   "cell_type": "code",
   "execution_count": 10,
   "metadata": {
    "colab": {
     "autoexec": {
      "startup": false,
      "wait_interval": 0
     }
    },
    "colab_type": "code",
    "id": "-gfuNCOKUQEg",
    "outputId": "99f8f845-ab50-4a00-c9fc-ea02e58b1bfa"
   },
   "outputs": [
    {
     "data": {
      "text/html": [
       "<table class=\"simpletable\">\n",
       "<caption>OLS Regression Results</caption>\n",
       "<tr>\n",
       "  <th>Dep. Variable:</th>           <td>EVA</td>       <th>  R-squared:         </th> <td>   0.978</td>\n",
       "</tr>\n",
       "<tr>\n",
       "  <th>Model:</th>                   <td>OLS</td>       <th>  Adj. R-squared:    </th> <td>   0.977</td>\n",
       "</tr>\n",
       "<tr>\n",
       "  <th>Method:</th>             <td>Least Squares</td>  <th>  F-statistic:       </th> <td>   759.4</td>\n",
       "</tr>\n",
       "<tr>\n",
       "  <th>Date:</th>             <td>Sun, 24 Jun 2018</td> <th>  Prob (F-statistic):</th> <td>1.51e-15</td>\n",
       "</tr>\n",
       "<tr>\n",
       "  <th>Time:</th>                 <td>18:58:25</td>     <th>  Log-Likelihood:    </th> <td> -38.473</td>\n",
       "</tr>\n",
       "<tr>\n",
       "  <th>No. Observations:</th>      <td>    18</td>      <th>  AIC:               </th> <td>   78.95</td>\n",
       "</tr>\n",
       "<tr>\n",
       "  <th>Df Residuals:</th>          <td>    17</td>      <th>  BIC:               </th> <td>   79.84</td>\n",
       "</tr>\n",
       "<tr>\n",
       "  <th>Df Model:</th>              <td>     1</td>      <th>                     </th>     <td> </td>   \n",
       "</tr>\n",
       "<tr>\n",
       "  <th>Covariance Type:</th>      <td>nonrobust</td>    <th>                     </th>     <td> </td>   \n",
       "</tr>\n",
       "</table>\n",
       "<table class=\"simpletable\">\n",
       "<tr>\n",
       "     <td></td>       <th>coef</th>     <th>std err</th>      <th>t</th>      <th>P>|t|</th>  <th>[0.025</th>    <th>0.975]</th>  \n",
       "</tr>\n",
       "<tr>\n",
       "  <th>EBITDA</th> <td>    5.8757</td> <td>    0.047</td> <td>  124.374</td> <td> 0.000</td> <td>    5.776</td> <td>    5.975</td>\n",
       "</tr>\n",
       "</table>\n",
       "<table class=\"simpletable\">\n",
       "<tr>\n",
       "  <th>Omnibus:</th>       <td> 8.679</td> <th>  Durbin-Watson:     </th> <td>   1.696</td>\n",
       "</tr>\n",
       "<tr>\n",
       "  <th>Prob(Omnibus):</th> <td> 0.013</td> <th>  Jarque-Bera (JB):  </th> <td>   5.952</td>\n",
       "</tr>\n",
       "<tr>\n",
       "  <th>Skew:</th>          <td>-1.339</td> <th>  Prob(JB):          </th> <td>  0.0510</td>\n",
       "</tr>\n",
       "<tr>\n",
       "  <th>Kurtosis:</th>      <td> 3.872</td> <th>  Cond. No.          </th> <td>    1.00</td>\n",
       "</tr>\n",
       "</table><br/><br/>Warnings:<br/>[1] Standard Errors assume that the covariance matrix of the errors is correctly specified."
      ],
      "text/plain": [
       "<class 'statsmodels.iolib.summary.Summary'>\n",
       "\"\"\"\n",
       "                            OLS Regression Results                            \n",
       "==============================================================================\n",
       "Dep. Variable:                    EVA   R-squared:                       0.978\n",
       "Model:                            OLS   Adj. R-squared:                  0.977\n",
       "Method:                 Least Squares   F-statistic:                     759.4\n",
       "Date:                Sun, 24 Jun 2018   Prob (F-statistic):           1.51e-15\n",
       "Time:                        18:58:25   Log-Likelihood:                -38.473\n",
       "No. Observations:                  18   AIC:                             78.95\n",
       "Df Residuals:                      17   BIC:                             79.84\n",
       "Df Model:                           1                                         \n",
       "Covariance Type:            nonrobust                                         \n",
       "==============================================================================\n",
       "                 coef    std err          t      P>|t|      [0.025      0.975]\n",
       "------------------------------------------------------------------------------\n",
       "EBITDA         5.8757      0.047    124.374      0.000       5.776       5.975\n",
       "==============================================================================\n",
       "Omnibus:                        8.679   Durbin-Watson:                   1.696\n",
       "Prob(Omnibus):                  0.013   Jarque-Bera (JB):                5.952\n",
       "Skew:                          -1.339   Prob(JB):                       0.0510\n",
       "Kurtosis:                       3.872   Cond. No.                         1.00\n",
       "==============================================================================\n",
       "\n",
       "Warnings:\n",
       "[1] Standard Errors assume that the covariance matrix of the errors is correctly specified.\n",
       "\"\"\""
      ]
     },
     "execution_count": 10,
     "metadata": {},
     "output_type": "execute_result"
    }
   ],
   "source": [
    "model.summary()"
   ]
  },
  {
   "cell_type": "code",
   "execution_count": 11,
   "metadata": {
    "colab": {
     "autoexec": {
      "startup": false,
      "wait_interval": 0
     }
    },
    "colab_type": "code",
    "id": "UIFxKCxKUQEl",
    "outputId": "97623f02-cbf4-4c43-a6a9-15dc4146be5b"
   },
   "outputs": [
    {
     "name": "stdout",
     "output_type": "stream",
     "text": [
      "Predicted EVA 51.84763517379761 for NETSALES 150 and EBITDA 8.8\n"
     ]
    }
   ],
   "source": [
    "model = api.OLS(data['EVA'], data[['NETSALES', 'EBITDA']]).fit()\n",
    "print(\"Predicted EVA {} for NETSALES {} and EBITDA {}\".format(model.predict((netsales, ebitda))[0], netsales, ebitda))"
   ]
  },
  {
   "cell_type": "code",
   "execution_count": 12,
   "metadata": {
    "colab": {
     "autoexec": {
      "startup": false,
      "wait_interval": 0
     }
    },
    "colab_type": "code",
    "id": "IJeinBCcUQEu",
    "outputId": "8507f071-72c2-47da-e2a5-bc8abdf3e7c6"
   },
   "outputs": [
    {
     "data": {
      "text/html": [
       "<table class=\"simpletable\">\n",
       "<caption>OLS Regression Results</caption>\n",
       "<tr>\n",
       "  <th>Dep. Variable:</th>           <td>EVA</td>       <th>  R-squared:         </th> <td>   0.993</td>\n",
       "</tr>\n",
       "<tr>\n",
       "  <th>Model:</th>                   <td>OLS</td>       <th>  Adj. R-squared:    </th> <td>   0.992</td>\n",
       "</tr>\n",
       "<tr>\n",
       "  <th>Method:</th>             <td>Least Squares</td>  <th>  F-statistic:       </th> <td>   1155.</td>\n",
       "</tr>\n",
       "<tr>\n",
       "  <th>Date:</th>             <td>Sun, 24 Jun 2018</td> <th>  Prob (F-statistic):</th> <td>5.02e-18</td>\n",
       "</tr>\n",
       "<tr>\n",
       "  <th>Time:</th>                 <td>18:58:25</td>     <th>  Log-Likelihood:    </th> <td> -28.055</td>\n",
       "</tr>\n",
       "<tr>\n",
       "  <th>No. Observations:</th>      <td>    18</td>      <th>  AIC:               </th> <td>   60.11</td>\n",
       "</tr>\n",
       "<tr>\n",
       "  <th>Df Residuals:</th>          <td>    16</td>      <th>  BIC:               </th> <td>   61.89</td>\n",
       "</tr>\n",
       "<tr>\n",
       "  <th>Df Model:</th>              <td>     2</td>      <th>                     </th>     <td> </td>   \n",
       "</tr>\n",
       "<tr>\n",
       "  <th>Covariance Type:</th>      <td>nonrobust</td>    <th>                     </th>     <td> </td>   \n",
       "</tr>\n",
       "</table>\n",
       "<table class=\"simpletable\">\n",
       "<tr>\n",
       "      <td></td>        <th>coef</th>     <th>std err</th>      <th>t</th>      <th>P>|t|</th>  <th>[0.025</th>    <th>0.975]</th>  \n",
       "</tr>\n",
       "<tr>\n",
       "  <th>NETSALES</th> <td>    0.0748</td> <td>    0.013</td> <td>    5.909</td> <td> 0.000</td> <td>    0.048</td> <td>    0.102</td>\n",
       "</tr>\n",
       "<tr>\n",
       "  <th>EBITDA</th>   <td>    4.6161</td> <td>    0.215</td> <td>   21.482</td> <td> 0.000</td> <td>    4.161</td> <td>    5.072</td>\n",
       "</tr>\n",
       "</table>\n",
       "<table class=\"simpletable\">\n",
       "<tr>\n",
       "  <th>Omnibus:</th>       <td> 2.025</td> <th>  Durbin-Watson:     </th> <td>   1.442</td>\n",
       "</tr>\n",
       "<tr>\n",
       "  <th>Prob(Omnibus):</th> <td> 0.363</td> <th>  Jarque-Bera (JB):  </th> <td>   0.522</td>\n",
       "</tr>\n",
       "<tr>\n",
       "  <th>Skew:</th>          <td> 0.162</td> <th>  Prob(JB):          </th> <td>   0.770</td>\n",
       "</tr>\n",
       "<tr>\n",
       "  <th>Kurtosis:</th>      <td> 3.768</td> <th>  Cond. No.          </th> <td>    134.</td>\n",
       "</tr>\n",
       "</table><br/><br/>Warnings:<br/>[1] Standard Errors assume that the covariance matrix of the errors is correctly specified."
      ],
      "text/plain": [
       "<class 'statsmodels.iolib.summary.Summary'>\n",
       "\"\"\"\n",
       "                            OLS Regression Results                            \n",
       "==============================================================================\n",
       "Dep. Variable:                    EVA   R-squared:                       0.993\n",
       "Model:                            OLS   Adj. R-squared:                  0.992\n",
       "Method:                 Least Squares   F-statistic:                     1155.\n",
       "Date:                Sun, 24 Jun 2018   Prob (F-statistic):           5.02e-18\n",
       "Time:                        18:58:25   Log-Likelihood:                -28.055\n",
       "No. Observations:                  18   AIC:                             60.11\n",
       "Df Residuals:                      16   BIC:                             61.89\n",
       "Df Model:                           2                                         \n",
       "Covariance Type:            nonrobust                                         \n",
       "==============================================================================\n",
       "                 coef    std err          t      P>|t|      [0.025      0.975]\n",
       "------------------------------------------------------------------------------\n",
       "NETSALES       0.0748      0.013      5.909      0.000       0.048       0.102\n",
       "EBITDA         4.6161      0.215     21.482      0.000       4.161       5.072\n",
       "==============================================================================\n",
       "Omnibus:                        2.025   Durbin-Watson:                   1.442\n",
       "Prob(Omnibus):                  0.363   Jarque-Bera (JB):                0.522\n",
       "Skew:                           0.162   Prob(JB):                        0.770\n",
       "Kurtosis:                       3.768   Cond. No.                         134.\n",
       "==============================================================================\n",
       "\n",
       "Warnings:\n",
       "[1] Standard Errors assume that the covariance matrix of the errors is correctly specified.\n",
       "\"\"\""
      ]
     },
     "execution_count": 12,
     "metadata": {},
     "output_type": "execute_result"
    }
   ],
   "source": [
    "model.summary()"
   ]
  },
  {
   "cell_type": "markdown",
   "metadata": {
    "colab_type": "text",
    "id": "Qf-EtbARUQE2"
   },
   "source": [
    "На мою думку найкращою є остання модель, бо в неї найбільші показники R-squared і adjusted R-squared."
   ]
  },
  {
   "cell_type": "markdown",
   "metadata": {
    "colab_type": "text",
    "id": "0rgriaAzUQFT"
   },
   "source": [
    "**4**"
   ]
  },
  {
   "cell_type": "code",
   "execution_count": 13,
   "metadata": {
    "colab": {
     "autoexec": {
      "startup": false,
      "wait_interval": 0
     }
    },
    "colab_type": "code",
    "id": "jLL28GqcUQFT"
   },
   "outputs": [],
   "source": [
    "first_column = []\n",
    "second_column = []\n",
    "\n",
    "with open('./data.txt', 'r') as f:\n",
    "    f.readline()\n",
    "    for line in f.readlines():\n",
    "        first, second = line.split(',')\n",
    "        first_column.append(int(first))\n",
    "        second_column.append(int(second))"
   ]
  },
  {
   "cell_type": "code",
   "execution_count": 14,
   "metadata": {
    "colab": {
     "autoexec": {
      "startup": false,
      "wait_interval": 0
     }
    },
    "colab_type": "code",
    "id": "AXwgaybgUQFZ"
   },
   "outputs": [],
   "source": [
    "from math import pow \n",
    "import ipdb\n",
    "\n",
    "def first(x, a, b, c):\n",
    "#     ipdb.set_trace()\n",
    "    return a * (x ** b) + c\n",
    "\n",
    "\n",
    "def second(x, a, b, c, d):\n",
    "    return a * (x ** 3) + b * (x ** 2) + c * x + d\n",
    "\n",
    "\n",
    "def third(x, a, b, c):\n",
    "    return a * (b ** x) + c"
   ]
  },
  {
   "cell_type": "code",
   "execution_count": 15,
   "metadata": {
    "colab": {
     "autoexec": {
      "startup": false,
      "wait_interval": 0
     }
    },
    "colab_type": "code",
    "id": "yHD_5kv6UQFb"
   },
   "outputs": [],
   "source": [
    "import numpy as np\n",
    "from matplotlib import pyplot as plt\n",
    "from scipy.optimize import curve_fit"
   ]
  },
  {
   "cell_type": "code",
   "execution_count": 16,
   "metadata": {},
   "outputs": [],
   "source": [
    "indices = np.array(range(len(first_column)))"
   ]
  },
  {
   "cell_type": "code",
   "execution_count": 17,
   "metadata": {
    "colab": {
     "autoexec": {
      "startup": false,
      "wait_interval": 0
     }
    },
    "colab_type": "code",
    "id": "RX0ntU0SUQFf"
   },
   "outputs": [],
   "source": [
    "params1, _ = curve_fit(first, indices, first_column)\n",
    "params2, _ = curve_fit(second, indices, first_column)\n",
    "params3, _ = curve_fit(third, indices, first_column)"
   ]
  },
  {
   "cell_type": "code",
   "execution_count": 18,
   "metadata": {
    "colab": {
     "autoexec": {
      "startup": false,
      "wait_interval": 0
     }
    },
    "colab_type": "code",
    "id": "SoF18PHyUQFh",
    "outputId": "7105ae54-29f2-4d6e-b324-31281a9946d8"
   },
   "outputs": [
    {
     "data": {
      "image/png": "[encoded data removed]",
      "text/plain": [
       "<matplotlib.figure.Figure at 0x7f8496b20da0>"
      ]
     },
     "metadata": {},
     "output_type": "display_data"
    }
   ],
   "source": [
    "plt.figure(num=None, figsize=(12, 9), dpi=80, facecolor='w', edgecolor='k')\n",
    "plt.plot(indices, first_column, '.')\n",
    "plt.plot(indices, first(indices, *params1))\n",
    "plt.plot(indices, second(indices, *params2))\n",
    "plt.plot(indices, third(indices, *params3))\n",
    "plt.legend([\n",
    "        'y = {:.2f}*x^{:.2f} + {:.2f}'.format(*params1),\n",
    "        'y = {:.2f}*x^3 + {:.2f}*x^2 + {:.2f}*x + {:.2f}'.format(*params2),\n",
    "        'y = {:.2f}*{:.2f}^x + {:.2f}'.format(*params3)\n",
    "    ], loc=2)\n",
    "plt.show()"
   ]
  },
  {
   "cell_type": "markdown",
   "metadata": {
    "colab_type": "text",
    "id": "oeFUczkQUQFo"
   },
   "source": [
    "З цього графіку видно, що всі три моделі досить добре апроксимують дані, проте зелена лінія має найбільше відхилення на всьому інтервалі."
   ]
  },
  {
   "cell_type": "code",
   "execution_count": 19,
   "metadata": {
    "colab": {
     "autoexec": {
      "startup": false,
      "wait_interval": 0
     }
    },
    "colab_type": "code",
    "id": "M25dKfGJUQFo"
   },
   "outputs": [],
   "source": [
    "params1, _ = curve_fit(first, indices, second_column)\n",
    "params2, _ = curve_fit(second, indices, second_column)\n",
    "params3, _ = curve_fit(third, indices, second_column)"
   ]
  },
  {
   "cell_type": "code",
   "execution_count": 20,
   "metadata": {
    "colab": {
     "autoexec": {
      "startup": false,
      "wait_interval": 0
     }
    },
    "colab_type": "code",
    "id": "ubWM54UNUQFt",
    "outputId": "27e17d74-8f7f-4e86-c1ca-b3367242d9b2"
   },
   "outputs": [
    {
     "data": {
      "image/png": "[encoded data removed]",
      "text/plain": [
       "<matplotlib.figure.Figure at 0x7f8496a86828>"
      ]
     },
     "metadata": {},
     "output_type": "display_data"
    }
   ],
   "source": [
    "plt.figure(num=None, figsize=(12, 9), dpi=80, facecolor='w', edgecolor='k')\n",
    "plt.plot(indices, second_column, '.')\n",
    "plt.plot(indices, first(indices, *params1))\n",
    "plt.plot(indices, second(indices, *params2))\n",
    "plt.plot(indices, third(indices, *params3))\n",
    "plt.legend([\n",
    "        'y = {:.2f}*x^{:.2f} + {:.2f}'.format(*params1),\n",
    "        'y = {:.2f}*x^3 + {:.2f}*x^2 + {:.2f}*x + {:.2f}'.format(*params2),\n",
    "        'y = {:.2f}*{:.2f}^x + {:.2f}'.format(*params3)\n",
    "    ], loc=2)\n",
    "plt.show()"
   ]
  },
  {
   "cell_type": "markdown",
   "metadata": {
    "colab_type": "text",
    "id": "TChn0swtUQFx"
   },
   "source": [
    "На цьому графіку також видно, що всі три моделі досить добре апроксимують дані, проте зелена лінія знову має найбільше відхилення на всьому інтервалі."
   ]
  },
  {
   "cell_type": "markdown",
   "metadata": {
    "colab_type": "text",
    "id": "KsoUBOmnUQG3"
   },
   "source": [
    "**6**"
   ]
  },
  {
   "cell_type": "markdown",
   "metadata": {
    "colab_type": "text",
    "id": "6nBx7bfuUQG5"
   },
   "source": [
    "$$\n",
    "Q = 3000 - 2000P \\\\\n",
    "P = 1.5 - 0.002Q \\\\ \n",
    "TotalCost = 120 + 0.2Q \\\\\n",
    "TotalRevenue = P \\cdot Q = 1.5Q - 0.002Q^2 \\\\\n",
    "Profit = TotalRevenue - TotalCost = 1.3Q - 0.002Q^2 - 120\n",
    "$$"
   ]
  },
  {
   "cell_type": "markdown",
   "metadata": {
    "colab": {
     "autoexec": {
      "startup": false,
      "wait_interval": 0
     }
    },
    "colab_type": "code",
    "id": "5d9wkTmZUQG9"
   },
   "source": [
    "$$\n",
    "\\frac\n",
    "    {\\partial{Profit(Q)}}\n",
    "    {\\partial{Q}} = \n",
    "\\frac\n",
    "    {\\partial{(1.3Q - 0.002Q^2 - 120)}}\n",
    "    {\\partial{Q}} =\n",
    "1.3 - 0.004Q = 0 \\\\\n",
    "Q = \\frac{1.3}{0.004} = 325\n",
    "$$"
   ]
  },
  {
   "cell_type": "code",
   "execution_count": 21,
   "metadata": {
    "colab": {
     "autoexec": {
      "startup": false,
      "wait_interval": 0
     }
    },
    "colab_type": "code",
    "id": "uE3iJBlLUQHK",
    "outputId": "8a48d2ed-75c1-4711-c3dc-6d05cfaa157c"
   },
   "outputs": [
    {
     "data": {
      "image/png": "[encoded data removed]",
      "text/plain": [
       "<matplotlib.figure.Figure at 0x7f84969dd748>"
      ]
     },
     "metadata": {},
     "output_type": "display_data"
    }
   ],
   "source": [
    "def profit(q):\n",
    "    return 1.3 * q - 0.002 * pow(q, 2) - 120\n",
    "\n",
    "quantities = range(0, 700)\n",
    "profits = [profit(q) for q in quantities]\n",
    "\n",
    "plt.plot(quantities, profits)\n",
    "plt.xlabel(\"Quantity\")\n",
    "plt.ylabel(\"Profit\")\n",
    "plt.show()"
   ]
  }
 ],
 "metadata": {
  "colab": {
   "default_view": {},
   "name": "HW2.ipynb",
   "provenance": [],
   "version": "0.3.2",
   "views": {}
  },
  "kernelspec": {
   "display_name": "Python 3",
   "language": "python",
   "name": "python3"
  },
  "language_info": {
   "codemirror_mode": {
    "name": "ipython",
    "version": 3
   },
   "file_extension": ".py",
   "mimetype": "text/x-python",
   "name": "python",
   "nbconvert_exporter": "python",
   "pygments_lexer": "ipython3",
   "version": "3.6.5"
  }
 },
 "nbformat": 4,
 "nbformat_minor": 1
}
